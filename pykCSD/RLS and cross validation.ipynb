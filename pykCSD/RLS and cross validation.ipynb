{
 "metadata": {
  "name": "",
  "signature": "sha256:45eb4d5f790f900da8ac7932d3e3f0ec6702d57f7c3d54b7475b4f1274aeead3"
 },
 "nbformat": 3,
 "nbformat_minor": 0,
 "worksheets": [
  {
   "cells": [
    {
     "cell_type": "code",
     "collapsed": false,
     "input": [
      "%pylab inline\n",
      "rcParams['figure.figsize'] = 14, 7"
     ],
     "language": "python",
     "metadata": {},
     "outputs": [
      {
       "output_type": "stream",
       "stream": "stdout",
       "text": [
        "Populating the interactive namespace from numpy and matplotlib\n"
       ]
      }
     ],
     "prompt_number": 1
    },
    {
     "cell_type": "heading",
     "level": 1,
     "metadata": {},
     "source": [
      "Regularized least squares and cross validation"
     ]
    },
    {
     "cell_type": "markdown",
     "metadata": {},
     "source": [
      "While calculating CSD, we often have to deal with noisy measurements. \n",
      "\n",
      "Finding a set of optimal parameters for our model, we have to solve the bias\u2013variance dilemma which is the problem of simultaneously minimizing the bias (how accurate a model is across different training sets) and variance of the model error (how sensitive the model is to small changes in training set). "
     ]
    },
    {
     "cell_type": "markdown",
     "metadata": {},
     "source": [
      "The error may be decomposed into:\n",
      "\n",
      "$Err(x) = \\left(E[\\hat{f}(x)]-f(x)\\right)^2 + E\\left[\\hat{f}(x)-E[\\hat{f}(x)]\\right]^2 +\\sigma_e^2$\n",
      "\n",
      "$Err(x) = \\mathrm{Bias}^2 + \\mathrm{Variance} + \\mathrm{Irreducible\\ Error}$"
     ]
    },
    {
     "cell_type": "heading",
     "level": 3,
     "metadata": {},
     "source": [
      "Example - noisy measurements"
     ]
    },
    {
     "cell_type": "markdown",
     "metadata": {},
     "source": [
      "Suppose we took some noisy measurements of function $f(x) = 0.08 x^2 + 1.0$ for $x \\in \\lbrace{ 0,1,2,3,4,5,6,7,8,9 \\rbrace}$ \n",
      "The noise will add variance, but not so much bias. The noise is from normal distribution so $E(noise) = 0$"
     ]
    },
    {
     "cell_type": "code",
     "collapsed": false,
     "input": [
      "import numpy as np\n",
      "\n",
      "X = np.array(range(0,10))\n",
      "Y = 0.08*X**2 + 1.0\n",
      "\n",
      "fig, (ax1, ax2) = plt.subplots(1, 2, sharex=True, sharey=True)\n",
      "ax1.plot(X,Y)\n",
      "ax1.set_title(\"model function\")\n",
      "\n",
      "Y2 = Y + np.random.random_sample(size(X))-0.5\n",
      "ax2.scatter(X,Y2)\n",
      "ax2.plot(X,Y)\n",
      "ax2.set_title(\"noisy measurements\")"
     ],
     "language": "python",
     "metadata": {},
     "outputs": [
      {
       "metadata": {},
       "output_type": "pyout",
       "prompt_number": 2,
       "text": [
        "<matplotlib.text.Text at 0x36c5310>"
       ]
      },
      {
       "metadata": {},
       "output_type": "display_data",
       "png": "[encoded data removed]",
       "text": [
        "<matplotlib.figure.Figure at 0x364fb10>"
       ]
      }
     ],
     "prompt_number": 2
    },
    {
     "cell_type": "markdown",
     "metadata": {},
     "source": [
      "Now let's try to fit some functions."
     ]
    },
    {
     "cell_type": "code",
     "collapsed": false,
     "input": [
      "from scipy.optimize import curve_fit\n",
      "\n",
      "def poly_7(x, a, b, c, d, e, f, g, h):\n",
      "    return h*x**7+g*x**6 + f*x**5 + e*x**4 + d*x**3 + c*x**2 + b*x + a\n",
      "\n",
      "popt, pcov = curve_fit(poly_7, X, Y2, p0=(10.0, 0.2, 0.1, 0.0,0.0,0.0,0.0,0.0))\n",
      "\n",
      "a = popt[0]\n",
      "b = popt[1]\n",
      "c = popt[2]\n",
      "d = popt[3]\n",
      "e = popt[4] \n",
      "f = popt[5]\n",
      "g = popt[6]\n",
      "h = popt[7]\n",
      "residuals = Y2 - poly_7(X, a,b,c,d,e,f,g,h)\n",
      "fres = np.linalg.norm(residuals)\n",
      "print \"7-degree polynomial error: \",fres\n",
      "\n",
      "fig, (ax1, ax2, ax3) = plt.subplots(1, 3, sharex=True, sharey=True)\n",
      "ax1.scatter(X,Y2)\n",
      "xlin = np.linspace(0,9, 50)\n",
      "ax1.plot(xlin, poly_7(xlin,a,b,c,d,e,f,g,h))\n",
      "ax1.set_title(\"Overfit - high variance\")\n",
      "\n",
      "def poly_1(x, a, b):\n",
      "    return a*x + b\n",
      "\n",
      "popt, pcov = curve_fit(poly_1, X, Y2, p0=(10.0, 0.2))\n",
      "\n",
      "a = popt[0]\n",
      "b = popt[1]\n",
      "residuals = Y2 - poly_1(X, a,b)\n",
      "fres = np.linalg.norm(residuals)\n",
      "print \"linear approximation error: \", fres\n",
      "\n",
      "ax2.scatter(X,Y2)\n",
      "ax2.plot(xlin, poly_1(xlin, a, b))\n",
      "ax2.set_title(\"Underfit - high bias\")\n",
      "\n",
      "def poly_2(x, a, b, c):\n",
      "    return a*x**2 + b*x + c\n",
      "\n",
      "popt, pcov = curve_fit(poly_2, X, Y2, p0=(10.0, 0.2, 0.0))\n",
      "\n",
      "a = popt[0]\n",
      "b = popt[1]\n",
      "c = popt[2]\n",
      "residuals = Y2 - poly_2(X, a,b,c)\n",
      "fres = np.linalg.norm(residuals)\n",
      "print \"error of the correct model: \", fres\n",
      "\n",
      "ax3.scatter(X,Y2)\n",
      "ax3.plot(xlin, poly_2(xlin, a,b,c))\n",
      "ax3.set_title(\"Correct model\")"
     ],
     "language": "python",
     "metadata": {},
     "outputs": [
      {
       "output_type": "stream",
       "stream": "stdout",
       "text": [
        "7-degree polynomial error:  0.161557406365\n",
        "linear approximation error: "
       ]
      },
      {
       "output_type": "stream",
       "stream": "stdout",
       "text": [
        " 1.48952709068\n",
        "error of the correct model:  0.568171379783\n"
       ]
      },
      {
       "metadata": {},
       "output_type": "pyout",
       "prompt_number": 3,
       "text": [
        "<matplotlib.text.Text at 0x3e8d410>"
       ]
      },
      {
       "metadata": {},
       "output_type": "display_data",
       "png": "[encoded data removed]",
       "text": [
        "<matplotlib.figure.Figure at 0x3865750>"
       ]
      }
     ],
     "prompt_number": 3
    },
    {
     "cell_type": "markdown",
     "metadata": {},
     "source": [
      "We can see that the higher the polynomial order is, the smallest the error. However if we were to add few more points without recalculating the polynomial coefficients, the incorrect models would fail miserably."
     ]
    },
    {
     "cell_type": "heading",
     "level": 3,
     "metadata": {},
     "source": [
      "So how to overcome this problem?"
     ]
    },
    {
     "cell_type": "markdown",
     "metadata": {},
     "source": [
      "In order to give preference to some particular solution, we are can introduce a regularization parameter $\\lambda$.\n",
      "\n",
      "Now the least squares regularization turns into Tikhonov regularization (Regularized Least Squares)\n",
      "\n",
      "$$\\min_{f \\in H} \\sum_{i = 1}^n\\left(f(X_i) - Y_i\\right)^2 + \\lambda ~ ||{f}||^2_K$$\n",
      "\n",
      "The regularization parameter $\\lambda$ determines how much we distrust our data.\n",
      "\n",
      "Too low $\\lambda$ will leave noise in the measurements and therefore modelled function may not extrapolate well.\n",
      "\n",
      "Too high $\\lambda$ may eventually ignore the data."
     ]
    },
    {
     "cell_type": "heading",
     "level": 3,
     "metadata": {},
     "source": [
      "How to choose a correct $\\lambda$? "
     ]
    },
    {
     "cell_type": "markdown",
     "metadata": {},
     "source": [
      "To validate our data we can only use our own measurements. So we can split them into a training set and testing set, interpolate the function obtained from processing the training set and find how well we can predict the test samples. This procedure is called **cross validation**.\n",
      "\n",
      "Repeating the procedure for different $\\lambda$, we can find which regularization parameter gives the best results (smallest error). \n",
      "\n",
      "Very high $\\lambda$ suggests that our measurements are too noisy or our model may be invalid.\n",
      "We would expect $\\lambda$ to be somewhere between 0 and 1."
     ]
    },
    {
     "cell_type": "heading",
     "level": 2,
     "metadata": {},
     "source": [
      "The role of Scikit-learn"
     ]
    },
    {
     "cell_type": "markdown",
     "metadata": {},
     "source": [
      "In SciPy (scikit-learn) we have some handful procedures for cross-validation. \n",
      "For example - there are index generators, which enable us to perform:\n",
      "* Leave One Out cross validation\n",
      "* Leave P Out cross validation\n",
      "* K-Fold cross validation\n",
      "* Shuffle split iterated cross validation\n",
      "\n",
      "\n",
      "Some examples:"
     ]
    },
    {
     "cell_type": "heading",
     "level": 3,
     "metadata": {},
     "source": [
      "Leave One Out"
     ]
    },
    {
     "cell_type": "code",
     "collapsed": false,
     "input": [
      "from sklearn.cross_validation import LeaveOneOut\n",
      "\n",
      "#for example\n",
      "#X = np.array([[0., 0.], [1., 1.], [-1., -1.], [2., 2.]])\n",
      "Y = np.array([0, 1, 0, 1])\n",
      "\n",
      "loo = LeaveOneOut(len(Y), indices=True)\n",
      "print(loo)\n",
      "print \"train  test\"\n",
      "for train_ind, test_ind in loo:\n",
      "    #do something with the indices and data\n",
      "    print(\"%s %s\" % (train_ind, test_ind))"
     ],
     "language": "python",
     "metadata": {},
     "outputs": [
      {
       "output_type": "stream",
       "stream": "stdout",
       "text": [
        "sklearn.cross_validation.LeaveOneOut(n=4)\n",
        "train  test\n",
        "[1 2 3] [0]\n",
        "[0 2 3] [1]\n",
        "[0 1 3] [2]\n",
        "[0 1 2] [3]\n"
       ]
      }
     ],
     "prompt_number": 4
    },
    {
     "cell_type": "heading",
     "level": 3,
     "metadata": {},
     "source": [
      "Leave P Out"
     ]
    },
    {
     "cell_type": "markdown",
     "metadata": {},
     "source": [
      "Leave P Out divides the samples into testing subset of size p and training set of size n-p"
     ]
    },
    {
     "cell_type": "code",
     "collapsed": false,
     "input": [
      "from sklearn.cross_validation import LeavePOut\n",
      "\n",
      "lpo = LeavePOut(n=len(Y), p=2, indices=True)\n",
      "print(lpo)\n",
      "print \"train test\"\n",
      "for train_ind, test_ind in lpo:\n",
      "    #do something with the indices and data\n",
      "    print(\"%s %s\" % (train_ind, test_ind))"
     ],
     "language": "python",
     "metadata": {},
     "outputs": [
      {
       "output_type": "stream",
       "stream": "stdout",
       "text": [
        "sklearn.cross_validation.LeavePOut(n=4, p=2)\n",
        "train test\n",
        "[2 3] [0 1]\n",
        "[1 3] [0 2]\n",
        "[1 2] [0 3]\n",
        "[0 3] [1 2]\n",
        "[0 2] [1 3]\n",
        "[0 1] [2 3]\n"
       ]
      }
     ],
     "prompt_number": 5
    },
    {
     "cell_type": "heading",
     "level": 3,
     "metadata": {},
     "source": [
      "K-Fold"
     ]
    },
    {
     "cell_type": "markdown",
     "metadata": {},
     "source": [
      "An advantage of K-Fold cross validation is reduction of the number of iterations required to complete the task."
     ]
    },
    {
     "cell_type": "code",
     "collapsed": false,
     "input": [
      "from sklearn.cross_validation import KFold\n",
      "\n",
      "#for example:\n",
      "#X = np.array([[0., 0.], [1., 1.], [-1., -1.], [2., 2.]])\n",
      "Y = np.array([0, 1, 0, 1])\n",
      "\n",
      "kf = KFold(len(Y), n_folds=2, indices=True)\n",
      "print(kf)\n",
      "print \"train test\"\n",
      "for train_ind, test_ind in kf:\n",
      "    print(\"%s %s\" % (train_ind, test_ind))"
     ],
     "language": "python",
     "metadata": {},
     "outputs": [
      {
       "output_type": "stream",
       "stream": "stdout",
       "text": [
        "sklearn.cross_validation.KFold(n=4, n_folds=2)\n",
        "train test\n",
        "[2 3] [0 1]\n",
        "[0 1] [2 3]\n"
       ]
      }
     ],
     "prompt_number": 6
    },
    {
     "cell_type": "heading",
     "level": 3,
     "metadata": {},
     "source": [
      "Shuffle Split"
     ]
    },
    {
     "cell_type": "code",
     "collapsed": false,
     "input": [
      "from sklearn.cross_validation import ShuffleSplit\n",
      "Y = np.array([0, 1, 0, 1])\n",
      "\n",
      "ss = ShuffleSplit(len(Y), n_iter=2, test_size = 0.5, indices=True)\n",
      "print(ss)\n",
      "print \"train test\"\n",
      "for train_ind, test_ind in ss:\n",
      "    print(\"%s %s\" % (train_ind, test_ind))"
     ],
     "language": "python",
     "metadata": {},
     "outputs": [
      {
       "output_type": "stream",
       "stream": "stdout",
       "text": [
        "ShuffleSplit(4, n_iter=2, test_size=0.5, indices=True, random_state=None)\n",
        "train test\n",
        "[3 2] [1 0]\n",
        "[0 1] [2 3]\n"
       ]
      }
     ],
     "prompt_number": 7
    },
    {
     "cell_type": "markdown",
     "metadata": {},
     "source": [
      "And more.\n",
      "\n",
      "We can recalculate our model with different $\\lambda$ to find out which model works best."
     ]
    },
    {
     "cell_type": "heading",
     "level": 2,
     "metadata": {},
     "source": [
      "Cross validation for determining model - example"
     ]
    },
    {
     "cell_type": "markdown",
     "metadata": {},
     "source": [
      "Using the previous functions we can check how the models extrapolate. This is pure cross validation and curve fitting. No regularization parameter was introduced in this example."
     ]
    },
    {
     "cell_type": "code",
     "collapsed": false,
     "input": [
      "def error_7(x_train, y_train, x_test, y_test):\n",
      "    popt, pcov = curve_fit(poly_7, x_train, y_train, p0=(10.0, 0.2, 0.1, 0.0,0.0,0.0,0.0,0.0))\n",
      "\n",
      "    a = popt[0]\n",
      "    b = popt[1]\n",
      "    c = popt[2]\n",
      "    d = popt[3]\n",
      "    e = popt[4] \n",
      "    f = popt[5]\n",
      "    g = popt[6]\n",
      "    h = popt[7]\n",
      "\n",
      "    y_estimated = poly_7(x_test, a,b,c,d,e,f,g,h) \n",
      "    err = np.linalg.norm(y_test - y_estimated)\n",
      "    return err\n",
      "\n",
      "X = np.array(range(0,10))\n",
      "Y = 0.04*X**2 + 1.0\n",
      "Y2 = Y + np.random.random_sample(size(X))-0.5\n",
      "\n",
      "loo = LeaveOneOut(len(Y), indices=True)\n",
      "error = 0.0\n",
      "for ind_train, ind_test in loo:\n",
      "    error += error_7(X[ind_train], Y2[ind_train], X[ind_test], Y2[ind_test])\n",
      "\n",
      "print \"Total error:\", error"
     ],
     "language": "python",
     "metadata": {},
     "outputs": [
      {
       "output_type": "stream",
       "stream": "stdout",
       "text": [
        "Total error: 27.2241098604\n"
       ]
      }
     ],
     "prompt_number": 8
    },
    {
     "cell_type": "markdown",
     "metadata": {},
     "source": [
      "Now we can see how badly this model extrapolates."
     ]
    },
    {
     "cell_type": "code",
     "collapsed": false,
     "input": [
      "def error_1(x_train, y_train, x_test, y_test):\n",
      "    popt, pcov = curve_fit(poly_1, x_train, y_train, p0=(10.0, 0.2))\n",
      "\n",
      "    a = popt[0]\n",
      "    b = popt[1]\n",
      "\n",
      "    y_estimated = poly_1(x_test, a,b) \n",
      "    err = np.linalg.norm(y_test - y_estimated)\n",
      "    return err\n",
      "\n",
      "error = 0.0\n",
      "for ind_train, ind_test in loo:\n",
      "    error += error_1(X[ind_train], Y2[ind_train], X[ind_test], Y2[ind_test])\n",
      "\n",
      "print \"Total error:\", error"
     ],
     "language": "python",
     "metadata": {},
     "outputs": [
      {
       "output_type": "stream",
       "stream": "stdout",
       "text": [
        "Total error: 3.68014736226\n"
       ]
      }
     ],
     "prompt_number": 9
    },
    {
     "cell_type": "markdown",
     "metadata": {},
     "source": [
      "Now this looks better."
     ]
    },
    {
     "cell_type": "code",
     "collapsed": false,
     "input": [
      "def error_2(x_train, y_train, x_test, y_test):\n",
      "    popt, pcov = curve_fit(poly_2, x_train, y_train, p0=(10.0, 0.2,0.0))\n",
      "\n",
      "    a = popt[0]\n",
      "    b = popt[1]\n",
      "    c = popt[2]\n",
      "\n",
      "    y_estimated = poly_2(x_test, a,b,c) \n",
      "    err = np.linalg.norm(y_test - y_estimated)\n",
      "    return err\n",
      "\n",
      "error = 0.0\n",
      "for ind_train, ind_test in loo:\n",
      "    error += error_2(X[ind_train], Y2[ind_train], X[ind_test], Y2[ind_test])\n",
      "\n",
      "print \"Total error:\", error"
     ],
     "language": "python",
     "metadata": {},
     "outputs": [
      {
       "output_type": "stream",
       "stream": "stdout",
       "text": [
        "Total error: 1.90230633991\n"
       ]
      }
     ],
     "prompt_number": 10
    },
    {
     "cell_type": "markdown",
     "metadata": {},
     "source": [
      "Here we can see that the 2nd degree polynomial extrapolates best."
     ]
    },
    {
     "cell_type": "markdown",
     "metadata": {},
     "source": [
      "This is how we manage to minimize the error connected with too high variance."
     ]
    },
    {
     "cell_type": "heading",
     "level": 2,
     "metadata": {},
     "source": [
      "Visualization of $\\lambda$ parameter influence"
     ]
    },
    {
     "cell_type": "markdown",
     "metadata": {},
     "source": [
      "Lets now solve a linear equation $Ax = b$\n",
      "\n",
      "$x = (A+\\lambda I)^{-1} b$ "
     ]
    },
    {
     "cell_type": "code",
     "collapsed": false,
     "input": [
      "A = np.array([\n",
      "            [1.0, 0.5, 0.2, 0.0, 0.0],\n",
      "            [0.5, 1.0, 0.5, 0.2, 0.0],\n",
      "            [0.2, 0.5, 1.0, 0.5, 0.2],\n",
      "            [0.0, 0.2, 0.5, 1.0, 0.5],\n",
      "            [0.0, 0.0, 0.2, 0.5, 1.0],\n",
      "          ])\n",
      "b = np.array([[1],[2],[3],[4],[5]])\n",
      "fig, (ax1, ax2) = plt.subplots(1,2)\n",
      "ax1.imshow(A, interpolation=\"none\")\n",
      "ax1.set_title(\"A\")\n",
      "ax2.imshow(b, interpolation=\"none\")\n",
      "ax2.set_title(\"b\")"
     ],
     "language": "python",
     "metadata": {},
     "outputs": [
      {
       "metadata": {},
       "output_type": "pyout",
       "prompt_number": 11,
       "text": [
        "<matplotlib.text.Text at 0x474ab10>"
       ]
      },
      {
       "metadata": {},
       "output_type": "display_data",
       "png": "[encoded data removed]",
       "text": [
        "<matplotlib.figure.Figure at 0x383a510>"
       ]
      }
     ],
     "prompt_number": 11
    },
    {
     "cell_type": "code",
     "collapsed": false,
     "input": [
      "fig, (ax1, ax2, ax3, ax4) = plt.subplots(1,4)\n",
      "\n",
      "x = dot(inv(A), b)\n",
      "ax1.imshow(x, interpolation=\"none\")\n",
      "ax1.set_title(\"x for lambda=0.0\")\n",
      "ax4.plot(x)\n",
      "\n",
      "lambd = 1.0\n",
      "x = dot(inv(A + lambd*identity(A.shape[0])), b)\n",
      "ax2.imshow(x, interpolation = \"none\")\n",
      "ax2.set_title(\"x for lambda=1.0\")\n",
      "ax4.plot(x)\n",
      "\n",
      "\n",
      "lambd = 20.0\n",
      "x = dot(inv(A + lambd*identity(A.shape[0])), b)\n",
      "ax3.imshow(x, interpolation = \"none\")\n",
      "ax3.set_title(\"x for lambda=20.0\")\n",
      "ax4.plot(x)\n"
     ],
     "language": "python",
     "metadata": {},
     "outputs": [
      {
       "metadata": {},
       "output_type": "pyout",
       "prompt_number": 12,
       "text": [
        "[<matplotlib.lines.Line2D at 0x4d62c90>]"
       ]
      },
      {
       "metadata": {},
       "output_type": "display_data",
       "png": "[encoded data removed]",
       "text": [
        "<matplotlib.figure.Figure at 0x48a7a90>"
       ]
      }
     ],
     "prompt_number": 12
    },
    {
     "cell_type": "heading",
     "level": 3,
     "metadata": {},
     "source": [
      "References"
     ]
    },
    {
     "cell_type": "markdown",
     "metadata": {},
     "source": [
      "1. Computer Science and Artificial Intelligence Laboratory - Technical Report\n",
      "    Notes on Regularized Least Squares\n",
      "    Ryan M. Rifkin and Ross A. Lippert\n",
      "2. http://en.wikipedia.org/wiki/Bias-variance_dilemma\n",
      "3. http://scott.fortmann-roe.com/docs/BiasVariance.html\n",
      "4. http://en.wikipedia.org/wiki/Tikhonov_regularization\n",
      "5. Scikit-learn documentation http://scikit-learn.org/"
     ]
    },
    {
     "cell_type": "code",
     "collapsed": false,
     "input": [],
     "language": "python",
     "metadata": {},
     "outputs": [],
     "prompt_number": 12
    }
   ],
   "metadata": {}
  }
 ]
}