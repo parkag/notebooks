{
 "metadata": {
  "name": "",
  "signature": "sha256:cfd4f51f5358c539f7f9dcb35d66d236d0c0670ccf1a547c07f6d5ed9ecfd415"
 },
 "nbformat": 3,
 "nbformat_minor": 0,
 "worksheets": [
  {
   "cells": [
    {
     "cell_type": "markdown",
     "metadata": {},
     "source": [
      "#Finding extremes - different approaches\n",
      "\n",
      "Aim of this notebook is to evaluate and find an optimal algorithm of query optimization to replace GEQO in PostgreSQL database.\n",
      "\n",
      "There will be tested:\n",
      "\n",
      "1. Genetic algorithms\n",
      "2. Simulated annealing\n",
      "3. Evolutionary algorithms (ant, harmony search ...)"
     ]
    },
    {
     "cell_type": "code",
     "collapsed": false,
     "input": [],
     "language": "python",
     "metadata": {},
     "outputs": []
    }
   ],
   "metadata": {}
  }
 ]
}