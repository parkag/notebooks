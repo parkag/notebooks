{
 "metadata": {
  "celltoolbar": "Slideshow",
  "name": "",
  "signature": "sha256:b90a9c144d49326ded1b4b545d3499e7276a1178857dc54d0b039bd308b5a6f5"
 },
 "nbformat": 3,
 "nbformat_minor": 0,
 "worksheets": [
  {
   "cells": [
    {
     "cell_type": "markdown",
     "metadata": {
      "slideshow": {
       "slide_type": "slide"
      }
     },
     "source": [
      "#Aplikacje mobilne w .NET\n",
      "![](http://www.fifewebsitedesign.co.uk/wp-content/uploads/2013/01/mobile-apps-for-small-business-fife-1024x627.jpg)\n",
      "###Grzegorz Parka"
     ]
    },
    {
     "cell_type": "markdown",
     "metadata": {
      "slideshow": {
       "slide_type": "slide"
      }
     },
     "source": [
      "##O czym ta prezentacja?\n",
      "\n",
      "1. Aplikacje WAP\n",
      "2. Aplikacje webowe przyjazne dla urz\u0105dze\u0144 mobilnych\n",
      "3. Aplikacje natywne"
     ]
    },
    {
     "cell_type": "markdown",
     "metadata": {
      "slideshow": {
       "slide_type": "slide"
      }
     },
     "source": [
      "##WAP - wireless application protocol\n",
      "![](http://www.gibbsusa.net/wap/images/1.jpg)"
     ]
    },
    {
     "cell_type": "markdown",
     "metadata": {
      "slideshow": {
       "slide_type": "notes"
      }
     },
     "source": [
      "WAP to protok\u00f3\u0142 umo\u017cliwiaj\u0105cy urz\u0105dzeniom bezprzewodowym korzystanie z aplikacji internetowych.\n",
      "Obecnie wi\u0119kszo\u015b\u0107 aplikacji mobilnych opartych na WAPie znikn\u0119\u0142a z rynku, teraz smartfony obs\u0142uguj\u0105 standardowy HTML/CSS, JS i inne, wi\u0119c nie ma potrzeby u\u017cywania uproszczonego protoko\u0142u.\n",
      "Jednak dla ciekawo\u015bci przytocz\u0119 spos\u00f3b tworzenia prostej appki."
     ]
    },
    {
     "cell_type": "markdown",
     "metadata": {
      "slideshow": {
       "slide_type": "subslide"
      }
     },
     "source": [
      "Create a new ASP .NET Mobile Web Application project in Visual Studio .NET.\n",
      "![](http://www.geekpedia.com/pics/AspNetMobile/MobileIcon.gif)"
     ]
    },
    {
     "cell_type": "markdown",
     "metadata": {
      "slideshow": {
       "slide_type": "subslide"
      }
     },
     "source": [
      "MobileWebForm1.aspx is created with a form on it\n",
      "\n",
      "![](http://www.geekpedia.com/pics/AspNetMobile/Form1.gif)"
     ]
    },
    {
     "cell_type": "markdown",
     "metadata": {
      "slideshow": {
       "slide_type": "subslide"
      }
     },
     "source": [
      "Also if you look in the HTML code you can see the tags that define this form:\n",
      "\n",
      "    <mobile:Form id=Form1 runat=\"server\"></mobile:Form>"
     ]
    },
    {
     "cell_type": "markdown",
     "metadata": {
      "slideshow": {
       "slide_type": "subslide"
      }
     },
     "source": [
      "![](codewap1.png)\n",
      "\n",
      "\u0179r\u00f3d\u0142o: http://www.geekpedia.com/tutorial120_Introduction-to-ASP.NET-Mobile.html"
     ]
    },
    {
     "cell_type": "markdown",
     "metadata": {
      "slideshow": {
       "slide_type": "subslide"
      }
     },
     "source": [
      "Gotowa aplikacja mo\u017ce by\u0107 uruchomiona na symulatorze\n",
      "![](http://www.geekpedia.com/pics/AspNetMobile/OpenWave1.gif)"
     ]
    },
    {
     "cell_type": "markdown",
     "metadata": {
      "slideshow": {
       "slide_type": "slide"
      }
     },
     "source": [
      "##Webaplikacje przyjazne dla urzadzen mobilnych\n",
      "![](http://qczma.pl/webdesigner/uploads/images/archi002-rwd.jpg)"
     ]
    },
    {
     "cell_type": "markdown",
     "metadata": {
      "slideshow": {
       "slide_type": "notes"
      }
     },
     "source": [
      "Przyjazno\u015b\u0107 webaplikacji dla urz\u0105dze\u0144 mobilnych mo\u017cemy osi\u0105gn\u0105\u0107 na dwa sposoby: pisz\u0105c natywn\u0105, dedykowan\u0105 aplikacj\u0119 dla danego urz\u0105dzenia mobilnego (oddzielne wersje dla urz\u0105dze\u0144 z Windows Phone, Android, IOS) lub stworzy\u0107 responsywn\u0105 stron\u0119 dzia\u0142aj\u0105c\u0105 na ka\u017cdym z tych system\u00f3w. Przy pomocy odpowiednich styl\u00f3w CSS jeste\u015bmy w stanie uzyska\u0107 stron\u0119 dopasowuj\u0105c\u0105 sw\u00f3j wygl\u0105d do r\u00f3\u017cnych rozdzielczo\u015bci, taka strona jest u\u017cyteczna zar\u00f3wno na komputerze z ekranem o wysokiej rozdzielczo\u015bci (Full HD), na netbooku, czy na kilkucalowych ekranach smartfon\u00f3w."
     ]
    },
    {
     "cell_type": "markdown",
     "metadata": {
      "slideshow": {
       "slide_type": "subslide"
      }
     },
     "source": [
      "##Aplikacje nieprzyjazne\n",
      "![](http://i3.asp.net/asp.net/images/whitepapers/mobile/image001.png?cdn_id=2014-04-02-001)"
     ]
    },
    {
     "cell_type": "markdown",
     "metadata": {
      "slideshow": {
       "slide_type": "subslide"
      }
     },
     "source": [
      "##Aplikacje przyjazne\n",
      "![](http://i3.asp.net/asp.net/images/whitepapers/mobile/image002.png?cdn_id=2014-04-02-001)\n",
      "\u0179r\u00f3d\u0142o: http://www.asp.net/whitepapers/add-mobile-pages-to-your-aspnet-web-forms-mvc-application"
     ]
    },
    {
     "cell_type": "markdown",
     "metadata": {
      "slideshow": {
       "slide_type": "subslide"
      }
     },
     "source": [
      "###Responsive Web Design\n",
      "Obs\u0142uga tej techniki odbywa si\u0119 za pomoc\u0105 tzw. ** media queries ** - kt\u00f3re pozwol\u0105 rozpozna\u0107 wielko\u015b\u0107 przegl\u0105darki i wstawi\u0107 odpowiedni arkusz stylu, lub jego fragment. Do dzia\u0142ania mo\u017cemy r\u00f3wnie\u017c u\u017cy\u0107 r\u00f3\u017cnych skrypt\u00f3w JavaScript."
     ]
    },
    {
     "cell_type": "markdown",
     "metadata": {
      "slideshow": {
       "slide_type": "subslide"
      }
     },
     "source": [
      "###Tag HTML\n",
      "Obowi\u0105zkowym fragmentem kodu HTML jest umieszczenie poni\u017cszego fragmentu w sekcji HEAD.\n",
      "\n",
      "    <meta name=\"viewport\" content=\"width=device-width\" />\n",
      "Mo\u017cemy r\u00f3wnie\u017c wstawi\u0107 ca\u0142y arkusz stylu, u\u017cywaj\u0105c media queries.\n",
      "\n",
      "    <link rel=\"stylesheet\" type=\"text/css\" media=\"screen and (max-width: 600px)\" href=\"arkusz600.css\" />\n",
      "    \n",
      "Powy\u017cszy fragment m\u00f3wi o tym, \u017ce arkusz stylu o nazwie arkusz600.css b\u0119dzie dzia\u0142a\u0142 tylko i wy\u0142\u0105cznie wtedy kiedy szeroko\u015b\u0107 przegl\u0105darki b\u0119dzie mniejsza lub r\u00f3wna 600 pikseli. Mo\u017cemy r\u00f3wnie\u017c u\u017cy\u0107 np. min-width, max-height, min-height."
     ]
    },
    {
     "cell_type": "markdown",
     "metadata": {
      "slideshow": {
       "slide_type": "subslide"
      }
     },
     "source": [
      "###Media Queries w CSS\n",
      "\n",
      "Je\u015bli nie potrzebujemy dzieli\u0107 styl\u00f3w na r\u00f3\u017cne arkusze, mo\u017cemy zrobi\u0107 to wszystko w jednym pliku u\u017cywaj\u0105c media queries.\n",
      "\n",
      "       @media screen and (min-width: 480px) { \n",
      "         a {\n",
      "           color: red;\n",
      "         }\n",
      "       }\n",
      "       \n",
      "Powy\u017cszy fragment CSS powoduje pokolorowanie wszystkich odno\u015bnik\u00f3w, je\u015bli tylko szeroko\u015b\u0107 przegl\u0105darki b\u0119dzie wynosi\u0107 minimum 480 pikseli."
     ]
    },
    {
     "cell_type": "markdown",
     "metadata": {
      "slideshow": {
       "slide_type": "subslide"
      }
     },
     "source": [
      "##Realizacja responsive design\n",
      "\n",
      "### Po stronie klienta\n",
      "  * Responsywne frameworki css\n",
      "      * Bootstrap\n",
      "      * Zurb\n",
      "      * Skeleton\n",
      "      * HTML5 Boilerplate"
     ]
    },
    {
     "cell_type": "markdown",
     "metadata": {
      "slideshow": {
       "slide_type": "fragment"
      }
     },
     "source": [
      "   * mobilne frameworki symuluj\u0105ce wygl\u0105d natywny\n",
      "       * Sencha\n",
      "       * Kendo\n",
      "       * jQuery Mobile"
     ]
    },
    {
     "cell_type": "markdown",
     "metadata": {
      "slideshow": {
       "slide_type": "notes"
      }
     },
     "source": [
      "These frameworks can get you near-native looking applications using HTML5 techniques."
     ]
    },
    {
     "cell_type": "markdown",
     "metadata": {
      "slideshow": {
       "slide_type": "notes"
      }
     },
     "source": [
      "Rozwi\u0105\u017c problem po stronie klienta \u2013 przy odpowiednim u\u017cyciu CSS i kolejnym poprawkom mo\u017cna stworzy\u0107 szablony, kt\u00f3re adaptuj\u0105 si\u0119 do odwiedzaj\u0105cej ich przegl\u0105darki. Np. przy u\u017cyciu CSS 3 media queries, mo\u017cesz stworzy\u0107 multi-column layout kt\u00f3ry zmienia si\u0119 w single column layout na urz\u0105dzeniach o szeroko\u015bci ekranu mniejszej ni\u017c za\u0142o\u017cona.\n",
      "\n",
      "* Zaleta: Optymizuje wygl\u0105d strony dla nieznanych urz\u0105dze\u0144, polega tylko na wymiarach ekranu.\n",
      "* Zaleta: Logika serwera taka sama na wszysktich urz\u0105dzeniach, brak duplikacji kodu.\n",
      "* Wada: Czasami chcemy zmieni\u0107 logik\u0119 serwera na potrzeby urz\u0105dze\u0144 mobilnych, tutaj nie mamy takiej mo\u017cliwo\u015bci. Nie mo\u017cna na przyk\u0142ad zaimplementowa\u0107 prostszego workflowu dla jakiego\u015b przypadku u\u017cycia\n",
      "* Wada: Nieefektywne u\u017cycie \u0142\u0105cza. Serwer musi przekaza\u0107 style obs\u0142uguj\u0105ce wszystkie potencjalne urz\u0105dzenia, podczas, gdy klient u\u017cyje tylko cz\u0119\u015bci przes\u0142anej informacji"
     ]
    },
    {
     "cell_type": "markdown",
     "metadata": {
      "slideshow": {
       "slide_type": "subslide"
      }
     },
     "source": [
      "### Po stronie serwera\n",
      "\n",
      "ASP.NET Web Forms i MVC to technologie nastawione na server-side."
     ]
    },
    {
     "cell_type": "markdown",
     "metadata": {
      "slideshow": {
       "slide_type": "notes"
      }
     },
     "source": [
      "Rozwi\u0105\u017c problem po stronie serwera \u2013 je\u015bli serwer wie, jakie urz\u0105dzenie wysy\u0142a \u017c\u0105dania \u2013 albo zna cechy tego urz\u0105dzenia, takie jak wielko\u015b\u0107 ekranu i spos\u00f3b wprowadzania informacji, oraz czy jest to urz\u0105dzenie mobilne \u2013 wtedy serwer mo\u017ce uruchomi\u0107 inn\u0105 logik\u0119 i zwr\u00f3ci\u0107 stron\u0119 dedykowan\u0105 dla takiego urz\u0105dzenia\n",
      "\n",
      "* Zaleta: maksymalna elastyczno\u015b\u0107. Logika po stronie serwera mo\u017ce by\u0107 ca\u0142kowicie odmienna dla urz\u0105dze\u0144 mobilnych ni\u017c dla desktop\u00f3w.\n",
      "* Zaleta: Efektywne u\u017cycie \u0142\u0105cza. Przesy\u0142a si\u0119 tylko to, co okre\u015blony klient ma wy\u015bwietli\u0107.\n",
      "* Wada: Czasami wymaga powt\u00f3rzenia projektu lub kodu (np. tworzenia podobnych, ale jednak troch\u0119 odmiennych kopii Web Forms i widok\u00f3w MVC) Kod taki musi by\u0107 dodatkowo testowany i utrzymywany.\n",
      "* Wada: Wykrycie urz\u0105dzenia nie zawsze jest proste. Wymaga to bazy znanych typ\u00f3w urz\u0105dze\u0144 i ich cech (kt\u00f3re nie zawsze musz\u0105 by\u0107 ca\u0142kowicie aktualne) i nie gwarantuje dok\u0142adnego dopasowania ka\u017cdego requestu.\n",
      "\n",
      "Dla uzyskania najlepszych rezultat\u00f3w, programi\u015bci wykonuj\u0105 drobne poprawki stylistyczne po stronie klienta w CSS/JS, za\u015b wi\u0119ksze zmiany w przep\u0142ywie sterowania s\u0105 implementowane w kodzie po stronie serwera."
     ]
    },
    {
     "cell_type": "markdown",
     "metadata": {
      "slideshow": {
       "slide_type": "subslide"
      }
     },
     "source": [
      "##Wbudowany detektor urzadzen w ASP.NET\n",
      "\n",
      "Programi\u015bci ASP.NET Web Forms i MVC developers mog\u0105 oddkry\u0107 charakterystyki odwiedzaj\u0105cej przegl\u0105darki przez przejrzenie w\u0142a\u015bciwo\u015bci obiektu Request.Browser. Na przyk\u0142ad:\n",
      "\n",
      "    Request.Browser.IsMobileDevice\n",
      "    Request.Browser.MobileDeviceManufacturer, Request.Browser.MobileDeviceModel\n",
      "    Request.Browser.ScreenPixelsWidth\n",
      "    Request.Browser.SupportsXmlHttp"
     ]
    },
    {
     "cell_type": "markdown",
     "metadata": {
      "slideshow": {
       "slide_type": "subslide"
      }
     },
     "source": [
      "##Mobile-specific master page\n",
      "\n",
      "Czasem mo\u017cna u\u017cy\u0107 tych samych Web Forms dla wszystkich odwiedzaj\u0105cych, ale mie\u0107 r\u00f3zne master page - jedn\u0105 dla u\u017cytkownik\u00f3w desktopowych, drug\u0105 dla mobilnych.\n",
      "\n",
      "Pozwala to zmienia\u0107 CSS w zale\u017cno\u015bci od typu odwiedzaj\u0105cego i nie duplikowa\u0107 logiki stron.\n",
      "\n",
      "Na przyk\u0142ad, mozna doda\u0107 poni\u017cszy PreInit handler do Web Forma:\n",
      "\n",
      "    protected void Page_PreInit(object sender, EventArgs e)\n",
      "    {\n",
      "        if (Request.Browser.IsMobileDevice)\n",
      "            MasterPageFile = \"~/Mobile.Master\";\n",
      "    }\n",
      "\n",
      "\n",
      "Teraz stw\u00f3rz master page Mobile.Master nad folderem z web aplikacj\u0105, a zostanie ona u\u017cyta, gdy serwer wykryje mobilne urz\u0105dzenie. Mobilny master page mo\u017ce kierowa\u0107 do specyficznych arkuszy CSS. U\u017cytkownicy komputer\u00f3w stacjonarnych zobacz\u0105 star\u0105 wersj\u0119 strony, a mobilni - wersj\u0119 mobiln\u0105."
     ]
    },
    {
     "cell_type": "markdown",
     "metadata": {
      "slideshow": {
       "slide_type": "subslide"
      }
     },
     "source": [
      "##Niezale\u017cny zestaw Web Forms\n",
      "\n",
      "* przydatne, gdy chcemy inny przep\u0142yw sterowania dla u\u017cytkownik\u00f3w stacjonarnych i mobilnych\n",
      "* trudna do unikni\u0119cia duplikacja kodu"
     ]
    },
    {
     "cell_type": "markdown",
     "metadata": {
      "slideshow": {
       "slide_type": "subslide"
      }
     },
     "source": [
      "##Przekierowanie do wersji mobilnej\n",
      "\n",
      "* przekierowanie w pierwszym reque\u015bcie, nie w ka\u017cdym\n",
      "    * u\u017cytkownik ma wyb\u00f3r: wersja mobilna/destopowa\n",
      "    * unikni\u0119cie ryzyka mieszania zasob\u00f3w desktopowych i mobilnych"
     ]
    },
    {
     "cell_type": "markdown",
     "metadata": {
      "slideshow": {
       "slide_type": "subslide"
      }
     },
     "source": [
      "Logika przekierowania w metodzie Session_Start. Na przyk\u0142ad, doda\u0107 metod\u0119 w pliku Global.asax.cs:\n",
      "\n",
      "    void Session_Start(object sender, EventArgs e)\n",
      "    {\n",
      "        // Redirect mobile users to the mobile home page\n",
      "        HttpRequest httpRequest = HttpContext.Current.Request;\n",
      "        if (httpRequest.Browser.IsMobileDevice)\n",
      "        {\n",
      "            string path = httpRequest.Url.PathAndQuery;\n",
      "            bool isOnMobilePage = path.StartsWith(\"/Mobile/\", \n",
      "                                   StringComparison.OrdinalIgnoreCase);\n",
      "            if (!isOnMobilePage)\n",
      "            {\n",
      "                string redirectTo = \"~/Mobile/\";\n",
      "\n",
      "                // Could also add special logic to redirect from certain \n",
      "                // recognized pages to the mobile equivalents of those \n",
      "                // pages (where they exist). For example,\n",
      "                // if (HttpContext.Current.Handler is UserRegistration)\n",
      "                //     redirectTo = \"~/Mobile/Register.aspx\";\n",
      "\n",
      "                HttpContext.Current.Response.Redirect(redirectTo);\n",
      "            }\n",
      "        }\n",
      "    }"
     ]
    },
    {
     "cell_type": "markdown",
     "metadata": {
      "slideshow": {
       "slide_type": "subslide"
      }
     },
     "source": [
      "##Konfiguracja Forms Authentication dla wersji mobilnej\n",
      "\n",
      "    public partial class Login : System.Web.UI.Page\n",
      "    {\n",
      "        protected void Page_Load(object sender, EventArgs e)\n",
      "        {\n",
      "            // Ensure that if Forms Authentication forces a mobile user \n",
      "            // to log in, we display the mobile login page\n",
      "            string returnUrl = Request.QueryString[\"ReturnUrl\"];\n",
      "            if (!String.IsNullOrEmpty(returnUrl) && returnUrl.StartsWith(\"/Mobile/\",\n",
      "                                                    StringComparison.OrdinalIgnoreCase)) \n",
      "            {\n",
      "                Response.Redirect(\"~/Mobile/Account/Login.aspx?ReturnUrl=\" \n",
      "                                  + HttpUtility.UrlEncode(returnUrl));\n",
      "            }\n",
      "\n",
      "            RegisterHyperLink.NavigateUrl = \"Register.aspx?ReturnUrl=\" \n",
      "                                            + HttpUtility.UrlEncode(returnUrl);\n",
      "        }\n",
      "    }"
     ]
    },
    {
     "cell_type": "markdown",
     "metadata": {
      "slideshow": {
       "slide_type": "notes"
      }
     },
     "source": [
      "Forms Authentication posiada pewne za\u0142o\u017cenia odno\u015bcie przekierowa\u0144 u\u017cytikoniwk\u00f3w podczas i po procesie uwierzytelnienia.\n",
      "\n",
      "Gdy u\u017cytkownik ma by\u0107 uwierzytelniony, Forms Authentication przekieruje go do stony logowania dla desktop\u00f3w, niezale\u017cnie od tego czy korzysta ze strony desktopowej czy mobilnej.\n",
      "Trzeba dostosowa\u0107 desktopow\u0105 stron\u0119 logowania, \u017ceby przekierowywa\u0142a u\u017cytkownik\u00f3w do wersji mobilnej. \n",
      "\n",
      "Na przyk\u0142ad - doda\u0107 kod do desktopowej strony logowania /\\"
     ]
    },
    {
     "cell_type": "markdown",
     "metadata": {
      "slideshow": {
       "slide_type": "subslide"
      }
     },
     "source": [
      "##Przekierowanie po zalogowaniu\n",
      "Po zalogowaniu, Forms Authentication domy\u015blnie przekierowuje do desktopowej strony g\u0142\u00f3wnej. Aby przekierowa\u0107 u\u017cytkownika do mobilnej wersji strony, nale\u017cy doda\u0107 do mobilnej wersji strony logowania nast\u0119puj\u0105cy kod:\n",
      "\n",
      "    public partial class Login : System.Web.UI.Page\n",
      "    {\n",
      "        protected void Page_Load(object sender, EventArgs e)\n",
      "        {\n",
      "            // Ensure that after logging in, mobile users stay on mobile pages\n",
      "            string returnUrl = Request.QueryString[\"ReturnUrl\"];\n",
      "            if (String.IsNullOrEmpty(returnUrl))\n",
      "            {\n",
      "                returnUrl = \"~/Mobile/\";\n",
      "            }\n",
      "            LoginUser.DestinationPageUrl = returnUrl;\n",
      "\n",
      "            // (the following line is already present by default)\n",
      "            RegisterHyperLink.NavigateUrl = \"Register.aspx?ReturnUrl=\" \n",
      "                                            + HttpUtility.UrlEncode(returnUrl);\n",
      "        }\n",
      "    }\n",
      "\n",
      "W tym kodzie zak\u0142adamy, \u017ce strona ma kontrol\u0119 logowania po stronie serwera, kt\u00f3ra ma nazw\u0119 LoginUser, jak w domy\u015blnym szablonie projektu."
     ]
    },
    {
     "cell_type": "markdown",
     "metadata": {
      "slideshow": {
       "slide_type": "subslide"
      }
     },
     "source": [
      "## Cache'owanie\n",
      "\n",
      "Je\u017celi u\u017cywasz filtru [OutputCache], musisz wymusi\u0107 cache'owanie zgodnie z typem urz\u0105dzenia\n",
      "\n",
      "    [OutputCache(Duration = 60, VaryByParam = \"*\", VaryByCustom = \"isMobileDevice\")]\n",
      "\n",
      "Oraz doda\u0107 metod\u0119 do Global.asax.cs:\n",
      "\n",
      "    public override string GetVaryByCustomString(HttpContext context, string custom)\n",
      "    {\n",
      "        if (string.Equals(custom, \"isMobileDevice\", StringComparison.OrdinalIgnoreCase))\n",
      "            return context.Request.Browser.IsMobileDevice.ToString();\n",
      "\n",
      "        return base.GetVaryByCustomString(context, custom);\n",
      "    }\n",
      "\n",
      "W ten spos\u00f3b u\u017cytkownicy mobilni nie dostan\u0105 zcache'owanej strony desktopowej."
     ]
    },
    {
     "cell_type": "markdown",
     "metadata": {
      "slideshow": {
       "slide_type": "slide"
      }
     },
     "source": [
      "##Aplikacje natywne\n",
      "\n",
      "* potrzeba wi\u0119kszej customizacji\n",
      "* wykorzystanie aparatu, czujnik\u00f3w\n",
      "* wykorzystanie w pe\u0142ni mo\u017cliwo\u015bci urz\u0105dze\u0144 mobilnych (np. local storage ...)"
     ]
    },
    {
     "cell_type": "markdown",
     "metadata": {
      "slideshow": {
       "slide_type": "subslide"
      }
     },
     "source": [
      "##Przyk\u0142adowe podej\u015bcie\n",
      "* cz\u0119\u015b\u0107 natywna + zapytania do rest-api\n",
      "* cz\u0119\u015b\u0107 natywna + sockety"
     ]
    },
    {
     "cell_type": "markdown",
     "metadata": {
      "slideshow": {
       "slide_type": "subslide"
      }
     },
     "source": [
      "![](http://www.hanselman.com/blog/content/binary/Windows-Live-Writer/ASP.NET-Creating-a-mobile-website-is-les_C01C/image_860d67b0-2b45-4706-8f92-f53ead32daae.png)"
     ]
    },
    {
     "cell_type": "code",
     "collapsed": false,
     "input": [
      "from IPython.core.display import HTML\n",
      "def css_styling():\n",
      "    styles = open(\"custom.css\", \"r\").read()\n",
      "    return HTML(styles)\n",
      "css_styling()"
     ],
     "language": "python",
     "metadata": {
      "slideshow": {
       "slide_type": "skip"
      }
     },
     "outputs": [
      {
       "html": [
        "<style>\n",
        "    @font-face {\n",
        "        font-family: \"Computer Modern\";\n",
        "        src: url('http://9dbb143991406a7c655e-aa5fcb0a5a4ec34cff238a2d56ca4144.r56.cf5.rackcdn.com/cmunss.otf');\n",
        "    }\n",
        "    @font-face {\n",
        "        font-family: \"Computer Modern\";\n",
        "        font-weight: bold;\n",
        "        src: url('http://9dbb143991406a7c655e-aa5fcb0a5a4ec34cff238a2d56ca4144.r56.cf5.rackcdn.com/cmunsx.otf');\n",
        "    }\n",
        "    @font-face {\n",
        "        font-family: \"Computer Modern\";\n",
        "        font-style: oblique;\n",
        "        src: url('http://9dbb143991406a7c655e-aa5fcb0a5a4ec34cff238a2d56ca4144.r56.cf5.rackcdn.com/cmunsi.otf');\n",
        "    }\n",
        "    @font-face {\n",
        "        font-family: \"Computer Modern\";\n",
        "        font-weight: bold;\n",
        "        font-style: oblique;\n",
        "        src: url('http://9dbb143991406a7c655e-aa5fcb0a5a4ec34cff238a2d56ca4144.r56.cf5.rackcdn.com/cmunso.otf');\n",
        "    }\n",
        "    div.cell{\n",
        "        /*width:800px;*/\n",
        "        margin-left:0% !important;\n",
        "        margin-right:5%;\n",
        "\t\t/*background-color: gray;*/\n",
        "    }\n",
        "\timg{\n",
        "\t\tdisplay:block;\t\n",
        "\t}\n",
        "    h1 {\n",
        "        font-family: Helvetica, serif;\n",
        "    }\n",
        "    h2 {\n",
        "        font-family: Arial, serif;\n",
        "    }\n",
        "    h4{\n",
        "        margin-top:12px;\n",
        "        margin-bottom: 3px;\n",
        "    }\n",
        "    div.text_cell_render{\n",
        "        font-family: Computer Modern, \"Helvetica Neue\", Arial, Helvetica, Geneva, sans-serif;\n",
        "        line-height: 145%;\n",
        "        font-size: 120%;\n",
        "        /*width:800px;*/\n",
        "        margin-left:0;\n",
        "        margin-right:0;\n",
        "    }\n",
        "    .CodeMirror{\n",
        "            font-family: \"Source Code Pro\", source-code-pro,Consolas, monospace;\n",
        "\t\t\tfont-size: 80%;\n",
        "    }\n",
        "    /*-.prompt{\n",
        "        display: None;\n",
        "    }*/\n",
        "    .text_cell_render h5 {\n",
        "        font-weight: 300;\n",
        "        font-size: 22pt;\n",
        "        color: #4057A1;\n",
        "        font-style: italic;\n",
        "        margin-bottom: .5em;\n",
        "        margin-top: 0.5em;\n",
        "        display: block;\n",
        "    }\n",
        "    \n",
        "    .warning{\n",
        "        color: rgb( 240, 20, 20 )\n",
        "    }  \n",
        "</style>\n",
        "<script>\n",
        "    MathJax.Hub.Config({\n",
        "                        TeX: {\n",
        "                           extensions: [\"AMSmath.js\"]\n",
        "                           },\n",
        "                tex2jax: {\n",
        "                    inlineMath: [ ['$','$'], [\"\\\\(\",\"\\\\)\"] ],\n",
        "                    displayMath: [ ['$$','$$'], [\"\\\\[\",\"\\\\]\"] ]\n",
        "                },\n",
        "                displayAlign: 'center', // Change this to 'center' to center equations.\n",
        "                \"HTML-CSS\": {\n",
        "                    styles: {'.MathJax_Display': {\"margin\": 4}}\n",
        "                }\n",
        "        });\n",
        "</script>\n"
       ],
       "metadata": {},
       "output_type": "pyout",
       "prompt_number": 6,
       "text": [
        "<IPython.core.display.HTML at 0x2c9a490>"
       ]
      }
     ],
     "prompt_number": 6
    }
   ],
   "metadata": {}
  }
 ]
}