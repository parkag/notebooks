{
 "metadata": {
  "name": "",
  "signature": "sha256:969a59874f546d852d2204e8d4098bd4e9235e2ef76575cfa88b85dc0eca24e1"
 },
 "nbformat": 3,
 "nbformat_minor": 0,
 "worksheets": [
  {
   "cells": [
    {
     "cell_type": "heading",
     "level": 1,
     "metadata": {},
     "source": [
      "Podstawowy algorytm genetyczny"
     ]
    },
    {
     "cell_type": "markdown",
     "metadata": {},
     "source": [
      "W poni\u017cszym przyk\u0142adzie przerobimy podstawowy algorytm genetyczny maksymalizuj\u0105cy funkcj\u0119 $y = sin(\\pi x)^{20} + sin(3\\pi x)^2$ na przedziale $x \\in [0, 1]$\n",
      "Wygl\u0105da ona nast\u0119puj\u0105co:"
     ]
    },
    {
     "cell_type": "code",
     "collapsed": false,
     "input": [
      "%pylab inline"
     ],
     "language": "python",
     "metadata": {},
     "outputs": [
      {
       "output_type": "stream",
       "stream": "stdout",
       "text": [
        "Populating the interactive namespace from numpy and matplotlib\n"
       ]
      }
     ],
     "prompt_number": 2
    },
    {
     "cell_type": "code",
     "collapsed": false,
     "input": [
      "#from matplotlib import pyplot as plt \n",
      "import numpy as np\n",
      "\n",
      "plt.xkcd()\n",
      "\n",
      "x = np.linspace(0, 1, 100)\n",
      "y = np.sin(np.pi*x)**20 + np.sin(3*np.pi*x)**2\n",
      "\n",
      "plt.plot(x, y)\n",
      "plt.show()"
     ],
     "language": "python",
     "metadata": {},
     "outputs": [
      {
       "metadata": {},
       "output_type": "display_data",
       "png": "[encoded data removed]",
       "text": [
        "<matplotlib.figure.Figure at 0x2bfc710>"
       ]
      }
     ],
     "prompt_number": 3
    },
    {
     "cell_type": "code",
     "collapsed": false,
     "input": [
      "import random\n",
      "from math import sin, pi\n",
      "\n",
      "class Chromosome(object):\n",
      "    alleles = (0,1) #alfabet - kodowanie binarne\n",
      "    length = 50\n",
      "    \n",
      "    def __init__(self, chromosome=None):\n",
      "        self.chromosome = chromosome or [random.choice(self.alleles) for i in xrange(self.length)]\n",
      "        self.fitness = None\n",
      "    \n",
      "    def evaluate(self):\n",
      "        self._calculate_fitness()\n",
      "    \n",
      "    def mutate(self):\n",
      "        self._swap_gene()\n",
      "    \n",
      "    def crossover(self, other):\n",
      "        return self._single_point_crossover(other)    \n",
      "\n",
      "        \n",
      "    def _swap_gene(self):\n",
      "        allel = random.randrange(0,self.length)\n",
      "        self.chromosome[allel] = random.choice(self.alleles)\n",
      "    \n",
      "    def _calculate_fitness(self):\n",
      "        self.fitness = sin(pi*self.fenotype())**20 + sin(3*pi*self.fenotype())**2\n",
      "        \n",
      "    def fenotype(self):\n",
      "        return sum([self.chromosome[n]*2**n for n in xrange(self.length)]) / 2.0**self.length\n",
      "\n",
      "    def _single_point_crossover(self, other):\n",
      "        point = random.randrange(0,self.length)\n",
      "        self.chromosome[point:], other.chromosome[point:] = other.chromosome[point:], self.chromosome[point:]\n",
      "        return self, other\n",
      "    \n",
      "    def __repr__(self):\n",
      "        #return '<%s chromosome=\"%s\", fenotype=%s, fitness=%s>' % \\\n",
      "        return '<%s fenotype=%s, fitness=%s>' % \\\n",
      "               (self.__class__.__name__, \n",
      "                 self.fenotype(), self.fitness)\n",
      "\n",
      "    def __cmp__(self, other):\n",
      "        return cmp(other.fitness, self.fitness)\n",
      "    \n",
      "    def copy(self):\n",
      "        twin = self.__class__(self.chromosome[:])\n",
      "        twin.fitness = self.fitness\n",
      "        return twin"
     ],
     "language": "python",
     "metadata": {
      "slideshow": {
       "slide_type": "-"
      }
     },
     "outputs": [],
     "prompt_number": 4
    },
    {
     "cell_type": "code",
     "collapsed": false,
     "input": [
      "class Population(object):\n",
      "    def __init__(self, pop_size = 40, mutation_prob = 0.00, crossover_prob = 1.0):\n",
      "        self.pop_size = pop_size\n",
      "        self.mutation_prob = mutation_prob\n",
      "        self.crossover_prob = crossover_prob\n",
      "        \n",
      "        self.population = [Chromosome() for i in xrange(pop_size)]\n",
      "        for one in self.population:\n",
      "            one.evaluate()\n",
      "    \n",
      "    def evolve(self):\n",
      "        self.population.sort()\n",
      "        self._crossover()\n",
      "        self._mutate()\n",
      "\n",
      "    def _mutate(self):\n",
      "        for chromosome in self.population:\n",
      "            for gene in chromosome.chromosome:\n",
      "                if random.random() < self.mutation_prob:\n",
      "                    chromosome.mutate()\n",
      "        \n",
      "    def _crossover(self):\n",
      "        next_population = [self.best.copy()]\n",
      "        while len(next_population) < self.pop_size:\n",
      "            mate1 = self._select()\n",
      "            if random.random() < self.crossover_prob:\n",
      "                print \"CROSSOVER\"\n",
      "                mate2 = self._select()\n",
      "                offspring = mate1.crossover(mate2)\n",
      "            else:\n",
      "                offspring = [mate1.copy()]\n",
      "            for individual in offspring:\n",
      "                individual.evaluate()\n",
      "                next_population.append(individual)\n",
      "        self.population = next_population[:self.pop_size]\n",
      "    \n",
      "    def _select(self):\n",
      "        \"\"\"preferred selection method\"\"\"\n",
      "        return self._tournament()\n",
      "    \n",
      "    def _tournament(self, size=5, choosebest=0.80):\n",
      "        competitors = [random.choice(self.population) for i in range(size)]\n",
      "        competitors.sort()\n",
      "        if random.random() < choosebest:\n",
      "            return competitors[0]\n",
      "        else:\n",
      "            return random.choice(competitors[1:])\n",
      "    \n",
      "    @property\n",
      "    def best(self):\n",
      "        \"\"\"individual with best fitness score in population.\"\"\"\n",
      "        for one in self.population:\n",
      "            one.evaluate()\n",
      "            self.population.sort()\n",
      "        return self.population[0]"
     ],
     "language": "python",
     "metadata": {},
     "outputs": [],
     "prompt_number": 10
    },
    {
     "cell_type": "code",
     "collapsed": false,
     "input": [
      "random.seed(None)\n",
      "\n",
      "population = Population(pop_size = 2, crossover_prob=0.0, mutation_prob =0.0)\n",
      "\n",
      "for i in xrange(20):\n",
      "    population.evolve()\n",
      "    print \"best\", population.best"
     ],
     "language": "python",
     "metadata": {},
     "outputs": [
      {
       "output_type": "stream",
       "stream": "stdout",
       "text": [
        "best <Chromosome fenotype=0.43645819927, fitness=1.35177278138>\n",
        "best <Chromosome fenotype=0.43645819927, fitness=1.35177278138>\n",
        "best <Chromosome fenotype=0.43645819927, fitness=1.35177278138>\n",
        "best <Chromosome fenotype=0.43645819927, fitness=1.35177278138>\n",
        "best <Chromosome fenotype=0.43645819927, fitness=1.35177278138>\n",
        "best <Chromosome fenotype=0.43645819927, fitness=1.35177278138>\n",
        "best <Chromosome fenotype=0.43645819927, fitness=1.35177278138>\n",
        "best <Chromosome fenotype=0.43645819927, fitness=1.35177278138>\n",
        "best <Chromosome fenotype=0.43645819927, fitness=1.35177278138>\n",
        "best <Chromosome fenotype=0.43645819927, fitness=1.35177278138>\n",
        "best <Chromosome fenotype=0.43645819927, fitness=1.35177278138>\n",
        "best <Chromosome fenotype=0.43645819927, fitness=1.35177278138>\n",
        "best <Chromosome fenotype=0.43645819927, fitness=1.35177278138>\n",
        "best <Chromosome fenotype=0.43645819927, fitness=1.35177278138>\n",
        "best <Chromosome fenotype=0.43645819927, fitness=1.35177278138>\n",
        "best <Chromosome fenotype=0.43645819927, fitness=1.35177278138>\n",
        "best <Chromosome fenotype=0.43645819927, fitness=1.35177278138>\n",
        "best <Chromosome fenotype=0.43645819927, fitness=1.35177278138>\n",
        "best <Chromosome fenotype=0.43645819927, fitness=1.35177278138>\n",
        "best <Chromosome fenotype=0.43645819927, fitness=1.35177278138>\n"
       ]
      }
     ],
     "prompt_number": 11
    },
    {
     "cell_type": "code",
     "collapsed": false,
     "input": [
      "c1 = Chromosome([1]*50)\n",
      "c2 = Chromosome([0]*50)\n",
      "print c1\n",
      "print c2\n",
      "print c1.crossover(c2)"
     ],
     "language": "python",
     "metadata": {},
     "outputs": [
      {
       "output_type": "stream",
       "stream": "stdout",
       "text": [
        "<Chromosome fenotype=1.0, fitness=None>\n",
        "<Chromosome fenotype=0.0, fitness=None>\n",
        "(<Chromosome fenotype=1.49011603057e-08, fitness=None>, <Chromosome fenotype=0.999999985099, fitness=None>)\n"
       ]
      }
     ],
     "prompt_number": 7
    },
    {
     "cell_type": "code",
     "collapsed": false,
     "input": [],
     "language": "python",
     "metadata": {},
     "outputs": [],
     "prompt_number": 7
    },
    {
     "cell_type": "code",
     "collapsed": false,
     "input": [],
     "language": "python",
     "metadata": {},
     "outputs": [],
     "prompt_number": 7
    },
    {
     "cell_type": "code",
     "collapsed": false,
     "input": [],
     "language": "python",
     "metadata": {},
     "outputs": [],
     "prompt_number": 7
    }
   ],
   "metadata": {}
  }
 ]
}