{
 "metadata": {
  "name": "",
  "signature": "sha256:daa780e2b0cfef387de6524c6e7e333aa5df27a55a9e0c3b41ef210288744440"
 },
 "nbformat": 3,
 "nbformat_minor": 0,
 "worksheets": []
}