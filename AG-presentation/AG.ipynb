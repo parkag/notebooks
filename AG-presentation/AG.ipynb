{
 "metadata": {
  "celltoolbar": "Slideshow",
  "name": "",
  "signature": "sha256:110a438be00d14d7bb6752c80c5d15376be1485ea0361037368d69c9874ac70c"
 },
 "nbformat": 3,
 "nbformat_minor": 0,
 "worksheets": [
  {
   "cells": [
    {
     "cell_type": "code",
     "collapsed": false,
     "input": [
      "#%pylab inline\n",
      "%matplotlib inline\n",
      "from matplotlib import pylab as plt\n",
      "import numpy as np\n",
      "plt.xkcd()"
     ],
     "language": "python",
     "metadata": {
      "slideshow": {
       "slide_type": "skip"
      }
     },
     "outputs": [
      {
       "metadata": {},
       "output_type": "pyout",
       "prompt_number": 7,
       "text": [
        "<matplotlib.rc_context at 0x37e80d0>"
       ]
      }
     ],
     "prompt_number": 7
    },
    {
     "cell_type": "markdown",
     "metadata": {
      "slideshow": {
       "slide_type": "slide"
      }
     },
     "source": [
      "#Algorytmy genetyczne w praktyce\n",
      "\n",
      "![caption](http://www.genetic-programming.org/hc2005/humvsgene_base_transp_smaller_v2.gif)\n",
      "###Grzegorz Parka"
     ]
    },
    {
     "cell_type": "markdown",
     "metadata": {
      "slideshow": {
       "slide_type": "notes"
      }
     },
     "source": [
      "Jak wiemy, na naszym wydziale mamy rozbudowane zaj\u0119cia z matematyki stosowanej. Dobrze znamy granice ci\u0105g\u00f3w, szeregi, pochodne i ca\u0142ki. Znamy te\u017c sk\u0142adnie j\u0119zyk\u00f3w programowania takich jak C, C++ i Java. \n",
      "\n",
      "Je\u015bli chodzi o teori\u0119, jeste\u015bmy dobrze przygotowani. Sprawa staje si\u0119 trudniejsza, kiedy musimy nasz\u0105 wiedz\u0119 wykorzysta\u0107 w praktyce.\n",
      "\n",
      "Dlatego chcia\u0142bym po dzisiejszej prezentacji zaprosi\u0107 ch\u0119tnych do pracy w zespole nad zaprojektowaniem i zaimplementowaniem w dowolnej technologii wybranego algorytmu genetycznego."
     ]
    },
    {
     "cell_type": "markdown",
     "metadata": {
      "slideshow": {
       "slide_type": "slide"
      }
     },
     "source": [
      "##Rozk\u0142ad jazdy\n",
      "\n",
      "* Co to jest algorytm genetyczny"
     ]
    },
    {
     "cell_type": "markdown",
     "metadata": {
      "slideshow": {
       "slide_type": "fragment"
      }
     },
     "source": [
      "* Podstawowe operacje genetyczne"
     ]
    },
    {
     "cell_type": "markdown",
     "metadata": {
      "slideshow": {
       "slide_type": "fragment"
      }
     },
     "source": [
      "* Realizacja algorytmu genetycznego"
     ]
    },
    {
     "cell_type": "markdown",
     "metadata": {
      "slideshow": {
       "slide_type": "fragment"
      }
     },
     "source": [
      "* Przyk\u0142ady u\u017cycia algorytm\u00f3w genetycznych"
     ]
    },
    {
     "cell_type": "markdown",
     "metadata": {
      "slideshow": {
       "slide_type": "fragment"
      }
     },
     "source": [
      "* Pomys\u0142y na hackathon"
     ]
    },
    {
     "cell_type": "markdown",
     "metadata": {
      "slideshow": {
       "slide_type": "slide"
      }
     },
     "source": [
      "##Algorytm genetyczny\n",
      "\n",
      "* Narz\u0119dzie inspirowane procesami ewolucyjnymi zachodz\u0105cymi w naturze"
     ]
    },
    {
     "cell_type": "markdown",
     "metadata": {
      "slideshow": {
       "slide_type": "fragment"
      }
     },
     "source": [
      "* Og\u00f3lne narz\u0119dzie optymizacji"
     ]
    },
    {
     "cell_type": "markdown",
     "metadata": {
      "slideshow": {
       "slide_type": "notes"
      }
     },
     "source": [
      "Narz\u0119dzie og\u00f3lne - tzn. \u017ce mo\u017cna je zastosowa\u0107 do bardzo du\u017cego zbioru problem\u00f3w, a szczeg\u00f3lnie takich, dla kt\u00f3rych trudno sformu\u0142owa\u0107 precyzyjny model matematyczny oraz takich, w kt\u00f3rych mamy do przeszukania bardzo du\u017c\u0105 przestrze\u0144 rozwi\u0105za\u0144.\n",
      "\n",
      "Warto w tym miejscu zaznaczy\u0107, \u017ce algorytm genetyczny nie gwarantuje nam uzyskania globalnego optimum, powinni\u015bmy si\u0119 raczej spodziewa\u0107 rozwi\u0105zania przybli\u017conego."
     ]
    },
    {
     "cell_type": "markdown",
     "metadata": {
      "slideshow": {
       "slide_type": "fragment"
      }
     },
     "source": [
      "* Jedna z metod sztucznej inteligencji"
     ]
    },
    {
     "cell_type": "markdown",
     "metadata": {
      "slideshow": {
       "slide_type": "notes"
      }
     },
     "source": [
      "Inne metody sztucznej inteligencji to inspirowane biologi\u0105, sieci neuronowe i algorytmy ewolucyjne (uog\u00f3lnienie algorytm\u00f3w genetycznych, przyk\u0142ad: algorytmy roju), ponadto systemy oparte na wiedzy (systemy ekspertowe), statystyce (uczenie maszynowe) lub logice (prolog). "
     ]
    },
    {
     "cell_type": "markdown",
     "metadata": {
      "slideshow": {
       "slide_type": "subslide"
      }
     },
     "source": [
      "##Inspiracja biologiczna\n",
      "![caption](http://marshallstanton.files.wordpress.com/2011/08/a-dna_b-dna_and_z-dna.png)"
     ]
    },
    {
     "cell_type": "markdown",
     "metadata": {
      "slideshow": {
       "slide_type": "subslide"
      }
     },
     "source": [
      "![caption](http://upload.wikimedia.org/wikipedia/commons/thumb/e/e9/DNA_chemical_structure_pl.svg/514px-DNA_chemical_structure_pl.svg.png)\n",
      "Struktura chemiczna DNA"
     ]
    },
    {
     "cell_type": "markdown",
     "metadata": {
      "slideshow": {
       "slide_type": "notes"
      }
     },
     "source": [
      "Cechy organizm\u00f3w \u017cywych s\u0105 kodowane w DNA. Cz\u0105steczki DNA s\u0105 zbudowane z  par komplementarnych zasad po\u0142\u0105czonych wi\u0105zaniami wodorowymi, otoczonymi szkieletem z pi\u0119ciow\u0119glowego cukru -- deoksyrybozy oraz reszty fosforanowej.\n",
      "\n",
      "D\u0142ugo\u015b\u0107 jednej pary zasad to oko\u0142o 0.34 nm. W ka\u017cdej kom\u00f3rce cz\u0142owieka znajduje si\u0119 oko\u0142o 6 mld zasad.\n",
      "\u015arednio oko\u0142o 1500 sekwencji zasad koduje jeden gen. **Gen** jest podstawow\u0105 jednostk\u0105 dziedziczno\u015bci cech. Zawiera **zakodowan\u0105** informacj\u0119 jak zbudowa\u0107 okre\u015blone bia\u0142ko, jak r\u00f3wnie\u017c ile, gdzie i w jakich okoliczno\u015bciach je zbudowa\u0107.\n",
      "\n",
      "DNA jest zorganizowane w **chromosomy** -- zwini\u0119te \u0142a\u0144cuchy (rozwini\u0119ty \u0142a\u0144cuch z jednej kom\u00f3rki cz\u0142owieka zaj\u0105\u0142by ok 2m). Kom\u00f3rki r\u00f3\u017cnych organizm\u00f3w posiadaj\u0105 r\u00f3\u017cne ilo\u015bci chromosom\u00f3w. Np. kom\u00f3rki cz\u0142owieka posiadaj\u0105 1 par\u0119 chromosom\u00f3w odpowiadaj\u0105cych za dziedziczenie cech p\u0142ciowych (XX-kobieta, XY-facet) oraz 22 pary autosom\u00f3w odpowiadaj\u0105cych za dziedziczenie innych cech."
     ]
    },
    {
     "cell_type": "markdown",
     "metadata": {
      "slideshow": {
       "slide_type": "subslide"
      }
     },
     "source": [
      "Krzy\u017cowanie\n",
      "![krzy\u017cowanie](http://www.genomenewsnetwork.org/gnn_images/whats_a_genome/crossing_over.jpg)"
     ]
    },
    {
     "cell_type": "markdown",
     "metadata": {
      "slideshow": {
       "slide_type": "notes"
      }
     },
     "source": [
      "W przypadku gamet cz\u0119\u015bci chromosom\u00f3w mog\u0105 podlega\u0107 **krzy\u017cowaniu**. Krzy\u017cowanie pomaga zr\u00f3\u017cnicowa\u0107 materia\u0142 genetyczny w populacji. Dziecko mo\u017ce posiada\u0107 inn\u0105 konfiguracj\u0119 gen\u00f3w ni\u017c jego rodzice."
     ]
    },
    {
     "cell_type": "markdown",
     "metadata": {
      "slideshow": {
       "slide_type": "subslide"
      }
     },
     "source": [
      "Mutacja\n",
      "![mutacja](http://upload.wikimedia.org/wikipedia/commons/thumb/2/26/Chromosomes_mutations-en.svg/303px-Chromosomes_mutations-en.svg.png)"
     ]
    },
    {
     "cell_type": "markdown",
     "metadata": {
      "slideshow": {
       "slide_type": "notes"
      }
     },
     "source": [
      "Niezale\u017cnie w ka\u017cdym z gen\u00f3w mo\u017ce wyst\u0105pi\u0107 przypadkowa mutacja. Zwykle nie jest istotna, jednak czasami mo\u017ce doprowadzi\u0107 do zmiany okre\u015blonych cech osobnika.\n",
      "\n",
      "Mo\u017cemy wydzieli\u0107 r\u00f3\u017cne rodzaje mutacji, np. usuni\u0119cie cz\u0119\u015bci chromosomu, zduplikowanie cz\u0119sci chromosomu, odwr\u00f3cenie kawa\u0142ka chromosomu, albo wstawienie cz\u0119\u015bci chromosomu do innego chromosomu."
     ]
    },
    {
     "cell_type": "markdown",
     "metadata": {
      "slideshow": {
       "slide_type": "subslide"
      }
     },
     "source": [
      "Selekcja\n",
      "![selekcja](http://cimg2.ck12.org/datastreams/f-d%3Ae73204acaeab5058b3293ffa08a48c7cc248609519d94eab81886a07%2BIMAGE_THUMB_POSTCARD%2BIMAGE_THUMB_POSTCARD.1)"
     ]
    },
    {
     "cell_type": "markdown",
     "metadata": {
      "slideshow": {
       "slide_type": "notes"
      }
     },
     "source": [
      "Osobniki w populacji mog\u0105 mie\u0107 r\u00f3\u017cne cechy, niekt\u00f3re po\u017c\u0105dane, inne niekoniecznie. Osobniki o lepszych cechach b\u0119d\u0105 cz\u0119\u015bciej mia\u0142y okazj\u0119 do przekazania materia\u0142u genetycznego dalej. Z czasem ich kod genetyczny b\u0119dzie coraz bardziej powszechny w populacji. W ten spos\u00f3b populacja zbiega do optimum.\n",
      "\n",
      "Przypadkiem mog\u0105 by\u0107 chocia\u017cby \u017cyrafy, kt\u00f3re w procesie ewolucji wyhodowa\u0142y sobie d\u0142ugie szyje umo\u017cliwiaj\u0105ce im zdobywanie po\u017cywienia niedost\u0119pnego dla innych zwierz\u0105t ro\u015blino\u017cernych."
     ]
    },
    {
     "cell_type": "markdown",
     "metadata": {
      "slideshow": {
       "slide_type": "slide"
      }
     },
     "source": [
      "##Dobra, dobra! Tylko jak to zaimplementowa\u0107 w programie?\n",
      "![pomy\u015bl](http://josvoskuil.files.wordpress.com/2009/02/think.png)\n",
      "Prze\u0107wiczmy to na prostym przyk\u0142adzie."
     ]
    },
    {
     "cell_type": "markdown",
     "metadata": {
      "slideshow": {
       "slide_type": "subslide"
      }
     },
     "source": [
      "##Problem\n",
      "Znajd\u017a maksimum funkcji $y = sin(\\pi x)^{20} + sin(3\\pi x)^2$ na przedziale $x \\in [0,1]$"
     ]
    },
    {
     "cell_type": "code",
     "collapsed": false,
     "input": [
      "x = np.linspace(0, 1, 100)\n",
      "y = np.sin(np.pi*x)**20 + np.sin(3.0*np.pi*x )**2\n",
      "\n",
      "plt.plot(x, y)\n",
      "plt.show()"
     ],
     "language": "python",
     "metadata": {
      "slideshow": {
       "slide_type": "-"
      }
     },
     "outputs": [
      {
       "metadata": {},
       "output_type": "display_data",
       "png": "[encoded data removed]",
       "text": [
        "<matplotlib.figure.Figure at 0x3af6a50>"
       ]
      }
     ],
     "prompt_number": 17
    },
    {
     "cell_type": "markdown",
     "metadata": {
      "slideshow": {
       "slide_type": "subslide"
      }
     },
     "source": [
      "##Kodowanie\n",
      "Zastosujemy proste kodowanie binarne.\n",
      "Genotypem b\u0119dzie lista o okre\u015blonej d\u0142ugo\u015bci, wype\u0142niona zerami i jedynkami."
     ]
    },
    {
     "cell_type": "code",
     "collapsed": false,
     "input": [
      "import random\n",
      "class Individual(object):\n",
      "    length = 5\n",
      "    alleles = (0,1)\n",
      "    def __init__(self):\n",
      "        self.genotype = [random.choice(self.alleles) for i in xrange(self.length)]\n",
      "    \n",
      "    def __repr__(self):\n",
      "        return '<%s: chromosome=%s>' % \\\n",
      "                (self.__class__.__name__,\n",
      "                 self.genotype)\n",
      "        \n",
      "dude = Individual()\n",
      "print dude"
     ],
     "language": "python",
     "metadata": {},
     "outputs": [
      {
       "output_type": "stream",
       "stream": "stdout",
       "text": [
        "<Individual: chromosome=[1, 1, 0, 0, 1]>\n"
       ]
      }
     ],
     "prompt_number": 2
    },
    {
     "cell_type": "markdown",
     "metadata": {
      "slideshow": {
       "slide_type": "subslide"
      }
     },
     "source": [
      "##Dekodowanie"
     ]
    },
    {
     "cell_type": "code",
     "collapsed": false,
     "input": [
      "length = 5\n",
      "def fenotype(chromosome):\n",
      "    return sum( [ 2**n *chromosome[n] for n in xrange(length)]) / float(2**length)\n",
      "\n",
      "chromosome = [0,0,0,0,1]\n",
      "print chromosome, \"->\" ,fenotype(chromosome)"
     ],
     "language": "python",
     "metadata": {
      "slideshow": {
       "slide_type": "-"
      }
     },
     "outputs": [
      {
       "output_type": "stream",
       "stream": "stdout",
       "text": [
        "[0, 0, 0, 0, 1] -> 0.5\n"
       ]
      }
     ],
     "prompt_number": 3
    },
    {
     "cell_type": "markdown",
     "metadata": {
      "slideshow": {
       "slide_type": "subslide"
      }
     },
     "source": [
      "##Krzy\u017cowanie\n",
      "Polega na wymianie cz\u0119\u015bci list mi\u0119dzy osobnikami. Mo\u017ce by\u0107 jednopunktowe lub dwupunktowe.\n",
      "Dla prostoty, jednopunktowe."
     ]
    },
    {
     "cell_type": "code",
     "collapsed": false,
     "input": [
      "def crossover(mom, dad):\n",
      "    point = random.randrange(0,length) \n",
      "    mom[:point], dad[:point] = dad[:point], mom[:point]\n",
      "\n",
      "mom = [0,0,0,0,0]\n",
      "dad = [1,1,1,1,1]\n",
      "\n",
      "crossover(mom, dad)\n",
      "print \"New mom: \", mom\n",
      "print \"New dad: \", dad"
     ],
     "language": "python",
     "metadata": {},
     "outputs": [
      {
       "output_type": "stream",
       "stream": "stdout",
       "text": [
        "New mom:  [1, 1, 1, 1, 0]\n",
        "New dad:  [0, 0, 0, 0, 1]\n"
       ]
      }
     ],
     "prompt_number": 4
    },
    {
     "cell_type": "markdown",
     "metadata": {
      "slideshow": {
       "slide_type": "subslide"
      }
     },
     "source": [
      "##Mutacja\n",
      "Polega na losowej zmianie jednego genu."
     ]
    },
    {
     "cell_type": "code",
     "collapsed": false,
     "input": [
      "alleles = (0,1)\n",
      "\n",
      "def mutate(chromosome, gene):\n",
      "    chromosome[gene] = random.choice(alleles)\n",
      "    \n",
      "dude = [1,1,1,1,1]\n",
      "mutate(dude, 0)\n",
      "print dude"
     ],
     "language": "python",
     "metadata": {},
     "outputs": [
      {
       "output_type": "stream",
       "stream": "stdout",
       "text": [
        "[0, 1, 1, 1, 1]\n"
       ]
      }
     ],
     "prompt_number": 5
    },
    {
     "cell_type": "markdown",
     "metadata": {
      "slideshow": {
       "slide_type": "subslide"
      }
     },
     "source": [
      "##Funkcja przystosowania\n",
      "Selekcja b\u0119dzie promowa\u0142a osobniki o wi\u0119kszej warto\u015bci funkcji celu. W przypadku naszego problemu funkcja celu to po prostu $f(x) = sin(\\pi x)^{20} + sin(3\\pi x)^2$"
     ]
    },
    {
     "cell_type": "code",
     "collapsed": false,
     "input": [
      "from math import sin, pi\n",
      "\n",
      "def evaluate(chromosome):\n",
      "    x = fenotype(chromosome)\n",
      "    return sin(pi*x)**20 + sin(3*pi*x)**2\n",
      "\n",
      "chromosome = [0,0,0,0,1]\n",
      "print chromosome, \"->\", evaluate(chromosome)"
     ],
     "language": "python",
     "metadata": {},
     "outputs": [
      {
       "output_type": "stream",
       "stream": "stdout",
       "text": [
        "[0, 0, 0, 0, 1] -> 2.0\n"
       ]
      }
     ],
     "prompt_number": 22
    },
    {
     "cell_type": "markdown",
     "metadata": {
      "slideshow": {
       "slide_type": "subslide"
      }
     },
     "source": [
      "##Osobnik"
     ]
    },
    {
     "cell_type": "code",
     "collapsed": false,
     "input": [
      "class Individual(object):\n",
      "    alleles = (0,1)\n",
      "    length = 100\n",
      "    \n",
      "    def __init__(self, chromosome=None):\n",
      "        self.chromosome = chromosome or [random.choice(self.alleles) for i in xrange(self.length)]\n",
      "        self.fitness = None\n",
      "    \n",
      "    def evaluate(self):\n",
      "        self._calculate_fitness()\n",
      "    \n",
      "    def mutate(self):\n",
      "        self._swap_gene()\n",
      "    \n",
      "    def crossover(self, other):\n",
      "        return self._single_point_crossover(other)    \n",
      "\n",
      "        \n",
      "    def _swap_gene(self):\n",
      "        allel = random.randrange(0,self.length)\n",
      "        self.chromosome[allel] = random.choice(self.alleles)\n",
      "    \n",
      "    def _calculate_fitness(self):\n",
      "        x = self.fenotype()\n",
      "        self.fitness = sin(pi*x)**20 + sin(3*pi*x)**2\n",
      "        \n",
      "    def fenotype(self):\n",
      "        return sum([self.chromosome[n]*2**n for n in xrange(self.length)]) / 2.0**self.length\n",
      "\n",
      "    def _single_point_crossover(self, other):\n",
      "        pt = random.randrange(1,self.length)\n",
      "        self.chromosome[:pt], other.chromosome[:pt] = other.chromosome[:pt], self.chromosome[:pt]\n",
      "        return self, other\n",
      "    \n",
      "    def __repr__(self):\n",
      "        return '<%s fenotype=%s, fitness=%s>' % \\\n",
      "               (self.__class__.__name__, \n",
      "                self.fenotype(), self.fitness)\n",
      "\n",
      "    def __cmp__(self, other):\n",
      "        return cmp(other.fitness, self.fitness)\n",
      "    \n",
      "    def copy(self):\n",
      "        twin = self.__class__(self.chromosome[:])\n",
      "        twin.fitness = self.fitness\n",
      "        return twin"
     ],
     "language": "python",
     "metadata": {},
     "outputs": [],
     "prompt_number": 23
    },
    {
     "cell_type": "markdown",
     "metadata": {
      "slideshow": {
       "slide_type": "subslide"
      }
     },
     "source": [
      "##Populacja"
     ]
    },
    {
     "cell_type": "markdown",
     "metadata": {
      "slideshow": {
       "slide_type": "fragment"
      }
     },
     "source": [
      "###Wielko\u015b\u0107 populacji\n",
      "\n",
      "![populacja](http://www.clker.com/cliparts/J/H/t/r/2/q/large-group-with-color-md.png)"
     ]
    },
    {
     "cell_type": "markdown",
     "metadata": {
      "slideshow": {
       "slide_type": "notes"
      }
     },
     "source": [
      "Im wi\u0119ksza populacja, tym wi\u0119ksza r\u00f3\u017cnorodno\u015b\u0107 genetyczna, ale i d\u0142u\u017cszy czas dochodzenia do zbie\u017cno\u015bci. W przypadku prostych problem\u00f3w zwykle wystarcza populacja kilku osobnik\u00f3w. Dla skomplikowanych problem\u00f3w wielko\u015b\u0107 populacji mo\u017cna liczy\u0107 w setkach/tysi\u0105cach."
     ]
    },
    {
     "cell_type": "markdown",
     "metadata": {
      "slideshow": {
       "slide_type": "subslide"
      }
     },
     "source": [
      "###Prawdopodobie\u0144stwo krzy\u017cowania\n",
      "![](http://cdn.buzznet.com/assets/users16/falloutboyluvr96/default/everyone-world-cross-their-fingers--large-msg-117995562012.jpg)"
     ]
    },
    {
     "cell_type": "markdown",
     "metadata": {
      "slideshow": {
       "slide_type": "notes"
      }
     },
     "source": [
      "Krzy\u017cowanie odpowiada za mieszanie cech w\u015br\u00f3d osobnik\u00f3w.\n",
      "Im wi\u0119ksze prawdopodobie\u0144stwo krzy\u017cowania, tym wi\u0119ksza szansa na uzyskanie osi\u0105gni\u0119cie pozytywnej synergii mi\u0119dzy osobnikami. Prawid\u0142owo dobrane krzy\u017cowanie zwykle dzia\u0142a dobrze przy prawdopodobie\u0144stwie krzy\u017cowania 0.5-1.0"
     ]
    },
    {
     "cell_type": "markdown",
     "metadata": {
      "slideshow": {
       "slide_type": "subslide"
      }
     },
     "source": [
      "###Prawdopodobie\u0144stwo mutacji\n",
      "![](http://1.bp.blogspot.com/_6J2a_68vVcg/S0E4Qo-z4WI/AAAAAAAAB3Y/Xf0w3VHebrc/s1600/mutation.jpg)"
     ]
    },
    {
     "cell_type": "markdown",
     "metadata": {
      "slideshow": {
       "slide_type": "notes"
      }
     },
     "source": [
      "Mutacja pe\u0142ni rol\u0119 szumu, ma zapewni\u0107 wi\u0119ksz\u0105 r\u00f3\u017cnorodno\u015b\u0107 osobnik\u00f3w w populacji. Za niskie prawdopodobie\u0144stwo mutacji sprawia, \u017ce algorytm za szybko zbiega, zwykle do nieoptymalnego rozwi\u0105zania. Za wysokie prawdopodobie\u0144stwo mutacji sprawia, \u017ce algorytm staje si\u0119 losowy i nie osi\u0105ga zbie\u017cno\u015bci.\n",
      "Typowe prawdopodobie\u0144stwo mutacji to 0.01-0.05."
     ]
    },
    {
     "cell_type": "markdown",
     "metadata": {
      "slideshow": {
       "slide_type": "subslide"
      }
     },
     "source": [
      "###Typ selekcji\n",
      "![](http://www.edc.ncl.ac.uk/assets/hilite_graphics/rhjan07g02.png)\n",
      "![](http://images.art.com/images/products/regular/12066000/12066286.jpg)"
     ]
    },
    {
     "cell_type": "markdown",
     "metadata": {
      "slideshow": {
       "slide_type": "notes"
      }
     },
     "source": [
      "Okre\u015bla na jakiej podstawie dobieramy osobniki, kt\u00f3re maj\u0105 przej\u015b\u0107 do nast\u0119pnego pokolenia.\n",
      "Najpopularniejsze metody selekcji to metoda ruletki lub turniejowa. Kryteria selekcji mo\u017cna zmienia\u0107 i skalowa\u0107 w trakcie ewolucji. W zale\u017cno\u015bci od problemu, r\u00f3\u017cne sposoby selekcji mog\u0105 wykazywa\u0107 r\u00f3\u017cn\u0105 wydajno\u015b\u0107."
     ]
    },
    {
     "cell_type": "code",
     "collapsed": false,
     "input": [
      "class Population(object):\n",
      "    def __init__(self, pop_size = 10, mutation_prob = 0.01, crossover_prob = 0.8):\n",
      "        self.pop_size = pop_size\n",
      "        self.mutation_prob = mutation_prob\n",
      "        self.crossover_prob = crossover_prob\n",
      "        \n",
      "        self.population = [Individual() for i in xrange(pop_size)]\n",
      "        for one in self.population:\n",
      "            one.evaluate()\n",
      "    \n",
      "    def evolve(self):\n",
      "        self.population.sort()\n",
      "        self._crossover()\n",
      "        self._mutate()\n",
      "\n",
      "    def _mutate(self):\n",
      "        for chromosome in self.population:\n",
      "            for gene in chromosome.chromosome:\n",
      "                if random.random() < self.mutation_prob:\n",
      "                    chromosome.mutate()\n",
      "        \n",
      "    def _crossover(self):\n",
      "        next_population = [self.best.copy()]\n",
      "        while len(next_population) < self.pop_size:\n",
      "            mate1 = self._select()\n",
      "            if random.random() < self.crossover_prob:\n",
      "                mate2 = self._select()\n",
      "                offspring = mate1.crossover(mate2)\n",
      "            else:\n",
      "                offspring = [mate1.copy()]\n",
      "            for individual in offspring:\n",
      "                individual.evaluate()\n",
      "                next_population.append(individual)\n",
      "        self.population = next_population[:self.pop_size]\n",
      "    \n",
      "    def _select(self):\n",
      "        \"\"\"preferred selection method\"\"\"\n",
      "        return self._tournament()\n",
      "    \n",
      "    def _tournament(self, size=5, choosebest=0.80):\n",
      "        competitors = [random.choice(self.population) for i in range(size)]\n",
      "        competitors.sort()\n",
      "        if random.random() < choosebest:\n",
      "            return competitors[0]\n",
      "        else:\n",
      "            return random.choice(competitors[1:])\n",
      "    \n",
      "    @property\n",
      "    def best(self):\n",
      "        \"\"\"individual with best fitness score in population.\"\"\"\n",
      "        for one in self.population:\n",
      "            one.evaluate()\n",
      "        self.population.sort()\n",
      "        return self.population[0]\n",
      "    \n",
      "    @property    \n",
      "    def average(self):\n",
      "        return sum([one.fitness for one in self.population])/float(self.pop_size)"
     ],
     "language": "python",
     "metadata": {
      "slideshow": {
       "slide_type": "skip"
      }
     },
     "outputs": [],
     "prompt_number": 24
    },
    {
     "cell_type": "markdown",
     "metadata": {
      "slideshow": {
       "slide_type": "subslide"
      }
     },
     "source": [
      "Pe\u0142na implementacja b\u0119dzie dost\u0119pna w jakim\u015b repo"
     ]
    },
    {
     "cell_type": "code",
     "collapsed": false,
     "input": [
      "random.seed(None)\n",
      "\n",
      "population = Population(pop_size=10, mutation_prob=0.01, crossover_prob=0.8)\n",
      "bests = []\n",
      "averages = []\n",
      "generations = 25\n",
      "\n",
      "for i in xrange(generations):\n",
      "    population.evolve()\n",
      "    bests.append(population.best.fitness)\n",
      "    averages.append(population.average)\n",
      "\n",
      "plt.xlabel(\"pokolenie\")\n",
      "plt.ylabel(\"przystosowanie\")\n",
      "plt.axis((0,generations-1, 0, 2.1))\n",
      "plt.plot(bests)\n",
      "plt.plot(averages)\n",
      "print \"Best fitness:\",bests[-1]"
     ],
     "language": "python",
     "metadata": {
      "slideshow": {
       "slide_type": "subslide"
      }
     },
     "outputs": [
      {
       "output_type": "stream",
       "stream": "stdout",
       "text": [
        "Best fitness: 1.99838116693\n"
       ]
      },
      {
       "metadata": {},
       "output_type": "display_data",
       "png": "[encoded data removed]",
       "text": [
        "<matplotlib.figure.Figure at 0x3afb290>"
       ]
      }
     ],
     "prompt_number": 73
    },
    {
     "cell_type": "markdown",
     "metadata": {
      "slideshow": {
       "slide_type": "notes"
      }
     },
     "source": [
      "Pokaza\u0107 efekt zmiany **prawdopodobie\u0144stwa mutacji** (przy $p_m$ = 1.0 losowo\u015b\u0107), krzy\u017cowania (du\u017ce $p_c$ - wi\u0119ksze skoki \u015bredniego przystosowania) i wielko\u015bci populacji (r\u00f3\u017cna ilo\u015b\u0107 pokole\u0144 do uzyskania zbie\u017cno\u015bci)\n",
      "\n",
      "Oczywi\u015bcie osobniki nie musz\u0105 by\u0107 kodowane binarnie. Parametry osobnik\u00f3w mog\u0105 by\u0107 przechowywane jako liczby ca\u0142kowite lub rzeczywiste. Wymaga to innego skonstruowania operator\u00f3w krzy\u017cowania i mutacji."
     ]
    },
    {
     "cell_type": "markdown",
     "metadata": {
      "slideshow": {
       "slide_type": "slide"
      }
     },
     "source": [
      "#Problem komiwoja\u017cera (TSP)\n",
      "\n",
      "![](http://imgs.xkcd.com/comics/travelling_salesman_problem.png)"
     ]
    },
    {
     "cell_type": "markdown",
     "metadata": {
      "slideshow": {
       "slide_type": "notes"
      }
     },
     "source": [
      "Maj\u0105c dany zbi\u00f3r miast i mo\u017cliwych po\u0142\u0105cze\u0144 mi\u0119dzy parami miast, zadaniem jest znalezienie najkr\u00f3tszej drogi, kt\u00f3ra pozwoli odwiedzi\u0107 ka\u017cde z miast i wr\u00f3ci\u0107 do punktu wyj\u015bcia."
     ]
    },
    {
     "cell_type": "markdown",
     "metadata": {
      "slideshow": {
       "slide_type": "subslide"
      }
     },
     "source": [
      "Znajd\u017a najkr\u00f3tsz\u0105 drog\u0119 mi\u0119dzy wierzcho\u0142kami grafu.\n",
      "![graf](http://blog.darnowsky.com/assets/graph_map_of_us.png)"
     ]
    },
    {
     "cell_type": "code",
     "collapsed": false,
     "input": [
      "from IPython.display import HTML\n",
      "HTML('<iframe src=http://gmaps-samples-v3.googlecode.com/svn/trunk/drivingdirections/directions-optimized.html width=670 height=550></iframe>')"
     ],
     "language": "python",
     "metadata": {
      "slideshow": {
       "slide_type": "subslide"
      }
     },
     "outputs": [
      {
       "html": [
        "<iframe src=http://gmaps-samples-v3.googlecode.com/svn/trunk/drivingdirections/directions-optimized.html width=670 height=550></iframe>"
       ],
       "metadata": {},
       "output_type": "pyout",
       "prompt_number": 1,
       "text": [
        "<IPython.core.display.HTML at 0x25b5410>"
       ]
      }
     ],
     "prompt_number": 1
    },
    {
     "cell_type": "markdown",
     "metadata": {
      "slideshow": {
       "slide_type": "subslide"
      }
     },
     "source": [
      "Problem permutacyjny\n",
      "\n",
      "Problem NP-trudny, znalezienie optymalnego rozwi\u0105zania w czasie d\u0142u\u017cszym ni\u017c wielomianowy.\n",
      "\n",
      "Brute-force w czasie O(n!) -- rozwi\u0105zywalne tylko dla ma\u0142ych n\n",
      "\n",
      "Istniej\u0105 szybsze algorytmy przybli\u017cone."
     ]
    },
    {
     "cell_type": "markdown",
     "metadata": {
      "slideshow": {
       "slide_type": "subslide"
      }
     },
     "source": [
      "###Cechy algorytmu genetycznego rozwi\u0105zuj\u0105cego TSP\n",
      "Kodowanie - lista kraw\u0119dzi\n",
      "\n",
      "Krzy\u017cowanie nie dubluj\u0105ce kraw\u0119dzi (PMX, OX, ERX, ...)\n",
      "\n",
      "Mutacja - wymiana losowych dw\u00f3ch kraw\u0119dzi"
     ]
    },
    {
     "cell_type": "markdown",
     "metadata": {
      "slideshow": {
       "slide_type": "subslide"
      }
     },
     "source": [
      "Implementacja do\u0142\u0105czona do prezentacji"
     ]
    },
    {
     "cell_type": "code",
     "collapsed": false,
     "input": [
      "import random\n",
      "from math import sqrt\n",
      "\n",
      "class Chromosome(object):\n",
      "    \n",
      "    def __init__(self, chromosome=None, shuff = 0):\n",
      "        self.chromosome = chromosome\n",
      "        if shuff == 1:\n",
      "            random.shuffle(chromosome)\n",
      "        self.fitness = None\n",
      "    \n",
      "    def evaluate(self):\n",
      "        self._calculate_fitness()\n",
      "    \n",
      "    def mutate(self):\n",
      "        self._swap_genes()\n",
      "    \n",
      "    def crossover(self, other):\n",
      "        return self._PMX_crossover(other)    \n",
      "\n",
      "        \n",
      "    def _swap_genes(self):\n",
      "        allel_one = random.randrange(0,len(self.chromosome))\n",
      "        allel_two = random.randrange(0,len(self.chromosome))\n",
      "        self.chromosome[allel_one], self.chromosome[allel_two] = self.chromosome[allel_two], self.chromosome[allel_one]\n",
      "    \n",
      "    def _calculate_fitness(self):\n",
      "        self.fitness = 0\n",
      "        for i in xrange(0, len(self.chromosome)):\n",
      "            self.fitness += sqrt((self.chromosome[i][1] - self.chromosome[i-1][1])**2 + ((self.chromosome[i][2] - self.chromosome[i-1][2])**2))\n",
      "        \n",
      "    def fenotype(self):\n",
      "        return [vert[0] for vert in self.chromosome]\n",
      "\n",
      "    def _PMX_crossover(self, other):\n",
      "        size = min(len(self.chromosome), len(other.chromosome))\n",
      "        p1, p2 = [0]*size, [0]*size\n",
      "\n",
      "        # Initialize the position of each indices in the individuals\n",
      "        for i in xrange(size):\n",
      "            p1[self.chromosome[i][0]] = i\n",
      "            p2[other.chromosome[i][0]] = i\n",
      "        # Choose crossover points\n",
      "        cxpoint1 = random.randint(0, size)\n",
      "        cxpoint2 = random.randint(0, size - 1)\n",
      "        if cxpoint2 >= cxpoint1:\n",
      "            cxpoint2 += 1\n",
      "        else: # Swap the two cx points\n",
      "            cxpoint1, cxpoint2 = cxpoint2, cxpoint1\n",
      "    \n",
      "        # Apply crossover between cx points\n",
      "        for i in xrange(cxpoint1, cxpoint2):\n",
      "            # Keep track of the selected values\n",
      "            temp1 = self.chromosome[i]\n",
      "            temp2 = other.chromosome[i]\n",
      "        \n",
      "            # Swap the matched value\n",
      "            self.chromosome[i], self.chromosome[p1[temp2[0]]] = temp2, temp1\n",
      "            other.chromosome[i], other.chromosome[p2[temp1[0]]] = temp1, temp2\n",
      "            # Position bookkeeping\n",
      "            p1[temp1[0]], p1[temp2[0]] = p1[temp2[0]], p1[temp1[0]]\n",
      "            p2[temp1[0]], p2[temp2[0]] = p2[temp2[0]], p2[temp1[0]]\n",
      "                    \n",
      "        return self, other\n",
      "    \n",
      "    def __repr__(self):\n",
      "        return '<%s fenotype=%s ... , fitness=%s>' % \\\n",
      "               (self.__class__.__name__, \n",
      "                 self.fenotype()[:5], self.fitness)\n",
      "\n",
      "    def __cmp__(self, other):\n",
      "        return cmp(self.fitness, other.fitness)\n",
      "    \n",
      "    def copy(self):\n",
      "        twin = self.__class__(self.chromosome[:])\n",
      "        twin.fitness = self.fitness\n",
      "        return twin"
     ],
     "language": "python",
     "metadata": {
      "slideshow": {
       "slide_type": "skip"
      }
     },
     "outputs": [],
     "prompt_number": 8
    },
    {
     "cell_type": "code",
     "collapsed": false,
     "input": [
      "class Population(object):\n",
      "    \n",
      "    def __init__(self, data_src = None, pop_size = 40, mutation_prob = 0.00, crossover_prob = 1.0):\n",
      "        self.pop_size = pop_size\n",
      "        self.mutation_prob = mutation_prob\n",
      "        self.crossover_prob = crossover_prob\n",
      "        \n",
      "        self.population = [Chromosome(chromosome = data_src, shuff = True) for i in xrange(pop_size)]\n",
      "        for one in self.population:\n",
      "            one.evaluate()\n",
      "    \n",
      "    def evolve(self):\n",
      "        self.population.sort()\n",
      "        self._crossover()\n",
      "        self._mutate()\n",
      "\n",
      "    def _mutate(self):\n",
      "        for chromosome in self.population:\n",
      "            for gene in chromosome.chromosome:\n",
      "                if random.random() < self.mutation_prob:\n",
      "                    chromosome.mutate()\n",
      "        \n",
      "    def _crossover(self):\n",
      "        next_population = [self.best.copy()]\n",
      "        while len(next_population) < self.pop_size:\n",
      "            mate1 = self._select()\n",
      "            if random.random() < self.crossover_prob:\n",
      "                #print \"crossing over!!\"\n",
      "                mate2 = self._select()\n",
      "                offspring = mate1.crossover(mate2)\n",
      "            else:\n",
      "                offspring = [mate1.copy()]\n",
      "            for individual in offspring:\n",
      "                individual.evaluate()\n",
      "                next_population.append(individual)\n",
      "        self.population = next_population[:self.pop_size]\n",
      "    \n",
      "    def _select(self):\n",
      "        \"\"\"preferred selection method\"\"\"\n",
      "        return self._tournament()\n",
      "    \n",
      "    def _tournament(self, size=8, choosebest=0.80):\n",
      "        competitors = [random.choice(self.population) for i in range(size)]\n",
      "        competitors.sort()\n",
      "        if random.random() < choosebest:\n",
      "            return competitors[0]\n",
      "        else:\n",
      "            return random.choice(competitors[1:])\n",
      "    \n",
      "    @property\n",
      "    def best(self):\n",
      "        \"\"\"individual with best fitness score in population.\"\"\"\n",
      "        for one in self.population:\n",
      "            one.evaluate()\n",
      "            self.population.sort()\n",
      "        return self.population[0]\n",
      "    \n",
      "    @property    \n",
      "    def average(self):\n",
      "        return sum([one.fitness for one in self.population])/float(self.pop_size)"
     ],
     "language": "python",
     "metadata": {
      "slideshow": {
       "slide_type": "skip"
      }
     },
     "outputs": [],
     "prompt_number": 9
    },
    {
     "cell_type": "code",
     "collapsed": false,
     "input": [
      "f = open(\"data/tsp_data_29.dat\")\n",
      "lines = f.readlines()\n",
      "f.close()\n",
      "\n",
      "vertices = []\n",
      "for line in lines:\n",
      "    line = line.split(' ')\n",
      "    vertices.append( [int(line[0])-1, float(line[1]), float(line[2])] )"
     ],
     "language": "python",
     "metadata": {
      "slideshow": {
       "slide_type": "skip"
      }
     },
     "outputs": [],
     "prompt_number": 15
    },
    {
     "cell_type": "code",
     "collapsed": false,
     "input": [
      "random.seed(None)\n",
      "bests = []\n",
      "averages = []"
     ],
     "language": "python",
     "metadata": {
      "slideshow": {
       "slide_type": "skip"
      }
     },
     "outputs": [],
     "prompt_number": 18
    },
    {
     "cell_type": "code",
     "collapsed": false,
     "input": [
      "population = Population(data_src = vertices, pop_size=20, mutation_prob=0.02, crossover_prob=0.35)\n",
      "generations = 2000\n",
      "\n",
      "for i in xrange(generations):\n",
      "    population.evolve()\n",
      "    bests.append(population.best.fitness)\n",
      "    averages.append(population.average)\n",
      "\n",
      "plt.xlabel(\"pokolenie\")\n",
      "plt.ylabel(\"odleglosc [km]\")\n",
      "plt.plot(bests, color=\"red\")\n",
      "plt.plot(averages, color = \"green\")\n",
      "optimum = [27603]*generations #znane optimum\n",
      "plt.plot(optimum, color = \"blue\")\n",
      "print \"Best fitness:\",bests[-1]\n",
      "print population.best"
     ],
     "language": "python",
     "metadata": {
      "slideshow": {
       "slide_type": "subslide"
      }
     },
     "outputs": [
      {
       "output_type": "stream",
       "stream": "stdout",
       "text": [
        "Best fitness: 32512.9834507\n",
        "<Chromosome fenotype=[13, 12, 16, 17, 18] ... , fitness=32512.9834507>\n"
       ]
      },
      {
       "metadata": {},
       "output_type": "display_data",
       "png": "[encoded data removed]",
       "text": [
        "<matplotlib.figure.Figure at 0x3913b50>"
       ]
      }
     ],
     "prompt_number": 19
    },
    {
     "cell_type": "code",
     "collapsed": false,
     "input": [
      "fig, ax = plt.subplots()\n",
      "x, y = [vert[1] for vert in population.best.chromosome], [vert[2] for vert in population.best.chromosome]\n",
      "line, = ax.plot(x, y, ls='-', marker='o', markersize=4, markerfacecolor=\"red\")\n",
      "\n",
      "ax.axis('equal')\n",
      "plt.show()"
     ],
     "language": "python",
     "metadata": {
      "slideshow": {
       "slide_type": "subslide"
      }
     },
     "outputs": [
      {
       "metadata": {},
       "output_type": "display_data",
       "png": "[encoded data removed]",
       "text": [
        "<matplotlib.figure.Figure at 0x39fa390>"
       ]
      }
     ],
     "prompt_number": 20
    },
    {
     "cell_type": "markdown",
     "metadata": {
      "slideshow": {
       "slide_type": "notes"
      }
     },
     "source": [
      "Dla 29 miast przestrze\u0144 rozwi\u0105za\u0144 zawiera oko\u0142o $29! \\approx 10^{31}$ element\u00f3w, nasz AG przegl\u0105da mniej ni\u017c \n",
      "$10^{6}$ rozwi\u0105za\u0144 do znalezienia przybli\u017conego wyniku.\n",
      "Uzyskany rezultat cz\u0119sto mie\u015bci si\u0119 w odleg\u0142o\u015bci 10-15% od globalnego optimum.\n",
      "\n",
      "Podobny test dla zestawu 131 miast wypad\u0142 znacznie gorzej. \u017beby rozwi\u0105zywa\u0107 wi\u0119ksze problemy, nale\u017ca\u0142oby przemy\u015ble\u0107 spos\u00f3b kodowania i wykonywania operator\u00f3w genetycznych - zastosowa\u0107 inny typ krzy\u017cowania lub losowo dobieran\u0105 kombinacj\u0119 typ\u00f3w krzy\u017cowania. Mo\u017cna te\u017c doda\u0107 operacj\u0119 inwersji jako jeden z typ\u00f3w mutacji."
     ]
    },
    {
     "cell_type": "markdown",
     "metadata": {
      "slideshow": {
       "slide_type": "subslide"
      }
     },
     "source": [
      "Przyk\u0142adowe zbiory danych testowych z rozwi\u0105zaniami: \n",
      "http://www.math.uwaterloo.ca/tsp/data/"
     ]
    },
    {
     "cell_type": "markdown",
     "metadata": {
      "slideshow": {
       "slide_type": "subslide"
      }
     },
     "source": [
      "###Zastosowania algorytmu TSP\n",
      "\n",
      "* Wyznaczanie optymalnej trasy - logistyka\n",
      "* Wyznaczanie optymalnego przebiegu \u015bcie\u017cek w obwodach drukowanych (problemy wielko\u015bci $n \\approx 10^6 - 10^8$)\n",
      "* Podproblemy przy sekwencjonowaniu genomu ($n \\approx 10^{10}$)\n",
      "\n",
      "### Podobne problemy\n",
      "* inne problemy permutacyjne"
     ]
    },
    {
     "cell_type": "markdown",
     "metadata": {
      "slideshow": {
       "slide_type": "slide"
      }
     },
     "source": [
      "#Programowanie genetyczne\n",
      "J.R.Koza: http://www.genetic-programming.com\n",
      "\n",
      "Program i funkcja mog\u0105 zosta\u0107 przedstawione w postaci drzewa argument\u00f3w i kolejnych operacji.\n",
      "\n",
      "![](http://images-mediawiki-sites.thefullwiki.org/04/2/4/8/48123683523688792.png)"
     ]
    },
    {
     "cell_type": "markdown",
     "metadata": {
      "slideshow": {
       "slide_type": "subslide"
      }
     },
     "source": [
      "###Problem\n",
      "Zaprojektuj 3-bitowy konwerter liczb binarnych na kod graya.\n",
      "\n",
      "![](http://3.bp.blogspot.com/_IxLBcRO_yKg/TKhku4eBJxI/AAAAAAAABfk/Cxz65k0vfTM/s1600/Input-Output.jpg)"
     ]
    },
    {
     "cell_type": "markdown",
     "metadata": {
      "slideshow": {
       "slide_type": "notes"
      }
     },
     "source": [
      "Wiele uk\u0142ad\u00f3w, w szczeg\u00f3lno\u015bci elektrycznych oraz cyfrowych, mo\u017cemy przedstawi\u0107 w og\u00f3lno\u015bci w formie czarnej skrzynki, kt\u00f3ra przyjmuje co\u015b na wej\u015bciu i co\u015b zwraca. Kiedy mamy ju\u017c troszk\u0119 wiedzy na temat np. elektroniki, zauwa\u017camy, \u017ce w przypadku uk\u0142adu elektrycznego analogowego, b\u0119d\u0105 tam pewnie jakie\u015b oporniki, cewki, kondensatory, wzmacniacze  operacyjne itp.\n",
      "\n",
      "W przypadku uk\u0142ad\u00f3w cyfrowych b\u0119d\u0105 to pewnie bramki logiczne (AND, OR, NOR, XOR ...) o r\u00f3\u017cnej liczbie wej\u015b\u0107."
     ]
    },
    {
     "cell_type": "markdown",
     "metadata": {},
     "source": [
      "DEC | BIN | GRAY\n",
      ":--:|:---:|:----:\n",
      "0 |000 | 000\n",
      "1 |001 | 001\n",
      "2 |010 | 011\n",
      "3 |011 | 010\n",
      "4 |100 | 110\n",
      "5 |101 | 111\n",
      "6 |110 | 101\n",
      "7 |111 | 100"
     ]
    },
    {
     "cell_type": "markdown",
     "metadata": {
      "slideshow": {
       "slide_type": "notes"
      }
     },
     "source": [
      "W tym konkretnym przypadku chcemy dla ka\u017cdej podanej liczby binarnej 3-bitowej otrzyma\u0107 na wyj\u015bciu jej reprezentacj\u0119 w kodzie Graya, wed\u0142ug powy\u017cszej tabelki."
     ]
    },
    {
     "cell_type": "markdown",
     "metadata": {
      "slideshow": {
       "slide_type": "subslide"
      }
     },
     "source": [
      "###Tutaj implementacja programu przy u\u017cyciu jakiego\u015b frameworka do Genetic Programming (python, java, cokolwiek)"
     ]
    },
    {
     "cell_type": "markdown",
     "metadata": {
      "slideshow": {
       "slide_type": "notes"
      }
     },
     "source": [
      "W podobny spos\u00f3b mo\u017cemy projektowa\u0107 r\u00f3\u017cne urz\u0105dzenia mechaniczne i elektryczne, kt\u00f3rych konstrukcje potrafimy sk\u0142ada\u0107 z mniejszych klock\u00f3w oraz ocenia\u0107 poszczeg\u00f3lne rozwi\u0105zania. Mo\u017cemy w ten spos\u00f3b projektowa\u0107 tak\u017ce funkcje czy wr\u0119cz ca\u0142e programy."
     ]
    },
    {
     "cell_type": "markdown",
     "metadata": {
      "slideshow": {
       "slide_type": "slide"
      }
     },
     "source": [
      "#Przyk\u0142ady zastosowa\u0144 algorytm\u00f3w genetycznych"
     ]
    },
    {
     "cell_type": "markdown",
     "metadata": {
      "slideshow": {
       "slide_type": "subslide"
      }
     },
     "source": [
      "###Genetyczny optymizer zapyta\u0144 SQL w PostgreSQL\n",
      "![postgres](http://upload.wikimedia.org/wikipedia/commons/2/29/Postgresql_elephant.svg)"
     ]
    },
    {
     "cell_type": "markdown",
     "metadata": {
      "slideshow": {
       "slide_type": "subslide"
      }
     },
     "source": [
      "* SELECT * FROM A JOIN B JOIN C JOIN D\n",
      "    * kolejno\u015b\u0107 JOIN\u00f3w ma znaczenie\n",
      "* Drzewo join\u00f3w\n",
      "![join tree](http://www.benjaminnevarez.com/wp-content/uploads/2010/06/clip_image004_thumb4.jpg)\n",
      " \n",
      "* Problem permutacyjny -- podej\u015bcie podobne jak do problemu komiwoja\u017cera"
     ]
    },
    {
     "cell_type": "markdown",
     "metadata": {
      "slideshow": {
       "slide_type": "notes"
      }
     },
     "source": [
      "Instytut Automatyki z University of Mining and Technology we Freibergu w Niemczech napotka\u0142 problemy przy wykorzystaniu bazy danych PostgreSQL w systemie zarzadzania sieci\u0105 elektryczn\u0105.\n",
      "W zapytaniach SQL znajdowa\u0142o si\u0119 wiele operator\u00f3w JOIN \u0142acz\u0105cych dane z tabeli znajduj\u0105cych si\u0119 w r\u00f3\u017cnych w\u0119z\u0142ach systemu rozproszonego.\n",
      "\n",
      "Wydajno\u015b\u0107 zapyta\u0144 z u\u017cyciem JOIN\u00f3w mo\u017ce byc r\u00f3\u017cna w zale\u017cnosci od tego w jakiej kolejno\u015bci tabele b\u0119d\u0105 ze sob\u0105 \u0142\u0105czone.\n",
      "Ilo\u015b\u0107 mo\u017cliwych realizacji zapyta\u0144 zawieraj\u0105cych operatory JOIN rosnie wyk\u0142adniczo ze wzrostem ilo\u015bci JOIN\u00f3w. W zwiazku z tym nie mo\u017cna by\u0142o uzyc standardowego optymizera zapyta\u0144. Przeszukiwa\u0142 on niemal ca\u0142\u0105 przestrze\u0144 mo\u017cliwych strategii i dla wysokowymiarowych problem\u00f3w dzia\u0142a\u0142 zbyt wolno oraz zu\u017cywa\u0142 za du\u017co pami\u0119ci.\n",
      "Do znajdowania w\u0142asciwych strategii zapyta\u0144 zdecydowano sie u\u017cy\u0107 algorytmu genetycznego.\n",
      "\n",
      "Genetyczny optymizer zapyta\u0144 (GEQO) podchodzi do zadania optymalizacji jak do problemu komiwoja\u017cera. Mo\u017cliwe plany zapyta\u0144 s\u0105 zakodowane jako \u0142a\u0144cuchy znak\u00f3w. Ka\u017cdy z nich reprezentuje kolejno\u015b\u0107 wykonywanych operacji JOIN."
     ]
    },
    {
     "cell_type": "code",
     "collapsed": false,
     "input": [
      "HTML('<iframe src=http://doxygen.postgresql.org/dir_7175d082973170882d93e297d0d6db83.html width=900 height=550></iframe>')"
     ],
     "language": "python",
     "metadata": {
      "slideshow": {
       "slide_type": "subslide"
      }
     },
     "outputs": [
      {
       "html": [
        "<iframe src=http://doxygen.postgresql.org/dir_7175d082973170882d93e297d0d6db83.html width=900 height=550></iframe>"
       ],
       "metadata": {},
       "output_type": "pyout",
       "prompt_number": 2,
       "text": [
        "<IPython.core.display.HTML at 0x24cf650>"
       ]
      }
     ],
     "prompt_number": 2
    },
    {
     "cell_type": "markdown",
     "metadata": {
      "slideshow": {
       "slide_type": "subslide"
      }
     },
     "source": [
      "Determinizm dzi\u0119ki zastosowaniu sta\u0142ego ziarna i sta\u0142ych prawdopodobie\u0144stw krzy\u017cowania i mutacji."
     ]
    },
    {
     "cell_type": "markdown",
     "metadata": {
      "slideshow": {
       "slide_type": "notes"
      }
     },
     "source": [
      "Bonus:\n",
      "* developerzy PostgreSQL narzekaj\u0105 na kiepsk\u0105 jako\u015b\u0107 kodu GEQO i od d\u0142u\u017cszego czasu zabieraj\u0105 si\u0119 do napisania go od nowa. Bior\u0105 te\u017c pod uwag\u0119 mo\u017cliwo\u015b\u0107 zastosowania innego algorytmu, np. symulowanego wy\u017carzania."
     ]
    },
    {
     "cell_type": "markdown",
     "metadata": {
      "slideshow": {
       "slide_type": "subslide"
      }
     },
     "source": [
      "###Optymalizacja prototyp\u00f3w\n",
      "\n",
      "samochodziki? regulator PID?"
     ]
    },
    {
     "cell_type": "markdown",
     "metadata": {
      "slideshow": {
       "slide_type": "subslide"
      }
     },
     "source": [
      "###Projektowanie obwod\u00f3w elektrycznych\n",
      "Praca in\u017cynierska MG"
     ]
    },
    {
     "cell_type": "markdown",
     "metadata": {
      "slideshow": {
       "slide_type": "subslide"
      }
     },
     "source": [
      "###Rozwi\u0105zywanie praktycznych zagadnie\u0144 elektromagnetyzmu\n",
      "\n",
      "* Algorytmy genetyczne w systemach r\u00f3wnoleg\u0142ych\n",
      "* Problemy odwrotne elektromagnetyzmu s\u0105 wymagaj\u0105ce obliczeniowo\n",
      "* ECJEXT -- r\u00f3wnoleg\u0142y system optymalizacji metodami ewolucyjnymi\n"
     ]
    },
    {
     "cell_type": "markdown",
     "metadata": {
      "slideshow": {
       "slide_type": "notes"
      }
     },
     "source": [
      "Jedn\u0105 z niew\u0105tpliwych zalet algorytm\u00f3w genetycznych jest dobra mo\u017cliwo\u015b\u0107 zr\u00f3wnoleglenia. Przyk\u0142adowym podej\u015bciem do zr\u00f3wnoleglania AG jest uruchomienie kilku instancji AG i okresowa migracja cz\u0119\u015bci osobnik\u00f3w mi\u0119dzy pokoleniami.\n",
      "\n",
      "Jacek Starzy\u0144ski, Robert Szmur\u0142o, Bartosz Sawicki - pracownicy Wydzia\u0142u Elektrycznego PW stworzyli system ECJEXT \u2014 r\u00f3wnoleg\u0142y system optymalizacji metodami ewolucyjnymi, stworzony z my\u015bl\u0105 o rozwi\u0105zywaniu problem\u00f3w odwrotnych elektromagnetyzmu."
     ]
    },
    {
     "cell_type": "markdown",
     "metadata": {
      "slideshow": {
       "slide_type": "subslide"
      }
     },
     "source": [
      "Przyk\u0142adowy problem - stymulacja nerwu b\u0142\u0119dnego\n",
      "![my image](pics/ecjext-mesh.png)"
     ]
    },
    {
     "cell_type": "markdown",
     "metadata": {
      "slideshow": {
       "slide_type": "notes"
      }
     },
     "source": [
      "Celem przyk\u0142adu jest optymalne zaprojektowanie magnetycznego stymulatora nerwu b\u0142\u0119dnego.\n",
      "Nerw b\u0142\u0119dny jest cz\u0119\u015bci\u0105 autonomicznego uk\u0142adu nerwowego. Nerw mo\u017ce by\u0107 stymulowany elektrodami umieszczonymi chirurgicznie w okolicach szyi, co pozwala zapobiega\u0107 napadom padaczkowym i pomaga w walce z depresj\u0105.\n",
      "\n",
      "Stymulacja magnetyczna pozwala unikn\u0105\u0107 nacinania sk\u00f3ry i jest znacznie bardziej bezbolesn\u0105 metod\u0105 ni\u017c stymulacja elektryczna.\n",
      "\n",
      "R\u00f3wnanie r\u00f3\u017cniczkowe, rozwi\u0105zywane na modelu numerycznym cia\u0142a cz\u0142owieka, zdyskretyzowanym w postaci siatki czworo\u015bciennej o 632808 kraw\u0119dziach i 114405 w\u0119z\u0142ach."
     ]
    },
    {
     "cell_type": "markdown",
     "metadata": {
      "slideshow": {
       "slide_type": "subslide"
      }
     },
     "source": [
      "Parametry cewki\n",
      "![my image](pics/ecjext-param.png)"
     ]
    },
    {
     "cell_type": "markdown",
     "metadata": {
      "slideshow": {
       "slide_type": "notes"
      }
     },
     "source": [
      "Parametry cewki: promie\u0144 zewn\u0119trzny, wewn\u0119trzny, odleg\u0142o\u015b\u0107 od powierzchni sk\u00f3ry, k\u0105t obrotu."
     ]
    },
    {
     "cell_type": "markdown",
     "metadata": {
      "slideshow": {
       "slide_type": "subslide"
      }
     },
     "source": [
      "Cewka o optymalnych parametrach i roz\u0142o\u017cenie pola elektrycznego indukowanego na powierzchni sk\u00f3ry.\n",
      "![optymalne rozwi\u0105zanie](pics/ecjext-opt.png)"
     ]
    },
    {
     "cell_type": "markdown",
     "metadata": {
      "slideshow": {
       "slide_type": "subslide"
      }
     },
     "source": [
      "Ustawienia systemu r\u00f3wnoleg\u0142ego\n",
      "![my image](pics/ecjext-depl.png)"
     ]
    },
    {
     "cell_type": "markdown",
     "metadata": {
      "slideshow": {
       "slide_type": "subslide"
      }
     },
     "source": [
      "Przyspieszenie - praktycznie proporcjonalne do ilo\u015bci u\u017cytych maszyn\n",
      "![Przyspieszenie](pics/ecjext-speedup.png)"
     ]
    },
    {
     "cell_type": "markdown",
     "metadata": {
      "slideshow": {
       "slide_type": "notes"
      }
     },
     "source": [
      "Eksperymenty by\u0142y przeprowadzone w uczelnianym laboratorium wyposa\u017conym w 30 komputer\u00f3w (Core2Duo 2.4GHz + 2 GB RAM, system operacyjny Red Hat Linux).\n",
      "Dla 30 komputer\u00f3w ca\u0142kowity czas rozwi\u0105zywania problemu wynosi\u0142 229 minut, dla dw\u00f3ch maszyn - wi\u0119cej ni\u017c 55 godzin."
     ]
    },
    {
     "cell_type": "markdown",
     "metadata": {
      "slideshow": {
       "slide_type": "notes"
      }
     },
     "source": [
      "###Algorytmy genetyczne przy projektowaniu \u017cywych organizm\u00f3w\n",
      "\n",
      "Ostatnio w wiadomo\u015bciach na tvn m\u00f3wiono o projektowaniu dzieci.\n",
      "Proces mia\u0142 polega\u0107 na sprawdzeniu genomu rodzic\u00f3w, generowaniu na ich podstawie kilkunastu tysi\u0119cy cyfrowych p\u0142od\u00f3w, na kt\u00f3rych mo\u017cliwe by\u0142o sprawdzenie cech dzieci przed pocz\u0119ciem."
     ]
    },
    {
     "cell_type": "markdown",
     "metadata": {
      "slideshow": {
       "slide_type": "slide"
      }
     },
     "source": [
      "#Projektowanie algorytm\u00f3w genetycznych\n",
      "1. Problem\n",
      "2. Ocena rozwi\u0105zania\n",
      "3. Spos\u00f3b kodowania\n",
      "4. Dobranie sposobu selekcji, krzy\u017cowania, mutacji\n",
      "5. Dobranie prawdopodobie\u0144stw krzy\u017cowania i mutacji - raczej eksperymentalnie\n",
      "6. Profit"
     ]
    },
    {
     "cell_type": "markdown",
     "metadata": {
      "slideshow": {
       "slide_type": "slide"
      }
     },
     "source": [
      "#Hackathon!\n",
      "![hackathon](http://cdni.wired.co.uk/1240x826/g_j/Hackathon_1.jpg)"
     ]
    },
    {
     "cell_type": "markdown",
     "metadata": {
      "slideshow": {
       "slide_type": "notes"
      }
     },
     "source": [
      "W marcu uczestniczy\u0142em w fajnym wydarzeniu - Arday, gdzie s\u0142uchali\u015bmy kr\u00f3tkich wyk\u0142ad\u00f3w dotycz\u0105cych platformy Arduino, a nast\u0119pnie mieli\u015bmy mo\u017cliwo\u015b\u0107, w ma\u0142ych zespo\u0142ach, przerabia\u0107 omawiany materia\u0142 w praktyce. Chcia\u0142bym, wzorem tamtego spotkania, zrobi\u0107 co\u015b podobnego u nas.\n",
      "\n",
      "Widz\u0119 to tak:\n",
      "paru z nas proponuje problemy, kt\u00f3re nast\u0119pnie rozwi\u0105zujemy w kilkuosobowych zespo\u0142ach, z u\u017cyciem algorytm\u00f3w genetycznych. Na koniec prezentujemy efekty swojej pracy i cieszymy si\u0119, \u017ce zrobili\u015bmy co\u015b fajnego.\n",
      "\n",
      "W razie gdyby brakowa\u0142o pomys\u0142\u00f3w, mog\u0119 zaproponowa\u0107 kilka swoich."
     ]
    },
    {
     "cell_type": "markdown",
     "metadata": {
      "slideshow": {
       "slide_type": "subslide"
      }
     },
     "source": [
      "###Pomys\u0142y?\n",
      "\n",
      "![please](http://us.cdn4.123rf.com/168nwm/ratoca/ratoca1302/ratoca130200304/17946346-please.jpg)"
     ]
    },
    {
     "cell_type": "markdown",
     "metadata": {
      "slideshow": {
       "slide_type": "subslide"
      }
     },
     "source": [
      "\u0141atwe:\n",
      "\n",
      "* Modyfikacja przyk\u0142adowego programu - znajdowanie ekstremum funkcji zale\u017cnej od 2 zmiennych.\n",
      "* Dopasowanie funkcji $f^N, f \\in [\\exp, \\sin, \\cos, +, -, *, /, x_1 ... x_N]$ do zbioru danych\n",
      "* Znajdowanie to\u017csamo\u015bci trygonometrycznych\n",
      "* Automatyczne testowanie wydajno\u015bciowe wybranego algorytmu sortowania"
     ]
    },
    {
     "cell_type": "markdown",
     "metadata": {
      "slideshow": {
       "slide_type": "subslide"
      }
     },
     "source": [
      "\u015arednie\n",
      "\n",
      "* Znajdowanie przybli\u017conych ca\u0142ek nieoznaczonych dla funkcji nieca\u0142kowalnych analitycznie np. $\\exp(-x^2), \\sin(x^2), \\frac{sin(x)}{x},\\frac{1}{ln(x)}, x^x$\n",
      "* Projektowanie obwodu elektrycznego o okre\u015blonej charakterystyce (https://github.com/ahkab/ahkab/wiki/Example:-Python-API)"
     ]
    },
    {
     "cell_type": "markdown",
     "metadata": {
      "slideshow": {
       "slide_type": "subslide"
      }
     },
     "source": [
      "Trudne\n",
      "\n",
      "* Automatyczna gra w Tetrisa, Mario\n",
      "* Symulacja wybranego zjawiska fizycznego"
     ]
    },
    {
     "cell_type": "code",
     "collapsed": false,
     "input": [
      "from IPython.core.display import HTML\n",
      "\n",
      "def css_styling():\n",
      "    styles = open(\"custom.css\", \"r\").read()\n",
      "    return HTML(styles)\n",
      "css_styling()"
     ],
     "language": "python",
     "metadata": {
      "slideshow": {
       "slide_type": "skip"
      }
     },
     "outputs": [
      {
       "html": [
        "<style>\n",
        "    @font-face {\n",
        "        font-family: \"Computer Modern\";\n",
        "        src: url('http://9dbb143991406a7c655e-aa5fcb0a5a4ec34cff238a2d56ca4144.r56.cf5.rackcdn.com/cmunss.otf');\n",
        "    }\n",
        "    @font-face {\n",
        "        font-family: \"Computer Modern\";\n",
        "        font-weight: bold;\n",
        "        src: url('http://9dbb143991406a7c655e-aa5fcb0a5a4ec34cff238a2d56ca4144.r56.cf5.rackcdn.com/cmunsx.otf');\n",
        "    }\n",
        "    @font-face {\n",
        "        font-family: \"Computer Modern\";\n",
        "        font-style: oblique;\n",
        "        src: url('http://9dbb143991406a7c655e-aa5fcb0a5a4ec34cff238a2d56ca4144.r56.cf5.rackcdn.com/cmunsi.otf');\n",
        "    }\n",
        "    @font-face {\n",
        "        font-family: \"Computer Modern\";\n",
        "        font-weight: bold;\n",
        "        font-style: oblique;\n",
        "        src: url('http://9dbb143991406a7c655e-aa5fcb0a5a4ec34cff238a2d56ca4144.r56.cf5.rackcdn.com/cmunso.otf');\n",
        "    }\n",
        "    div.cell{\n",
        "        /*width:800px;*/\n",
        "        margin-left:0% !important;\n",
        "        margin-right:5%;\n",
        "\t\t/*background-color: gray;*/\n",
        "    }\n",
        "\timg{\n",
        "\t\tdisplay:block;\t\n",
        "\t}\n",
        "    h1 {\n",
        "        font-family: Helvetica, serif;\n",
        "    }\n",
        "    h2 {\n",
        "        font-family: Arial, serif;\n",
        "    }\n",
        "    h4{\n",
        "        margin-top:12px;\n",
        "        margin-bottom: 3px;\n",
        "    }\n",
        "    div.text_cell_render{\n",
        "        font-family: Computer Modern, \"Helvetica Neue\", Arial, Helvetica, Geneva, sans-serif;\n",
        "        line-height: 145%;\n",
        "        font-size: 130%;\n",
        "        /*width:800px;*/\n",
        "        margin-left:0;\n",
        "        margin-right:0;\n",
        "    }\n",
        "    .CodeMirror{\n",
        "            font-family: \"Source Code Pro\", source-code-pro,Consolas, monospace;\n",
        "    }\n",
        "    /*-.prompt{\n",
        "        display: None;\n",
        "    }*/\n",
        "    .text_cell_render h5 {\n",
        "        font-weight: 300;\n",
        "        font-size: 22pt;\n",
        "        color: #4057A1;\n",
        "        font-style: italic;\n",
        "        margin-bottom: .5em;\n",
        "        margin-top: 0.5em;\n",
        "        display: block;\n",
        "    }\n",
        "    \n",
        "    .warning{\n",
        "        color: rgb( 240, 20, 20 )\n",
        "    }  \n",
        "</style>\n",
        "<script>\n",
        "    MathJax.Hub.Config({\n",
        "                        TeX: {\n",
        "                           extensions: [\"AMSmath.js\"]\n",
        "                           },\n",
        "                tex2jax: {\n",
        "                    inlineMath: [ ['$','$'], [\"\\\\(\",\"\\\\)\"] ],\n",
        "                    displayMath: [ ['$$','$$'], [\"\\\\[\",\"\\\\]\"] ]\n",
        "                },\n",
        "                displayAlign: 'center', // Change this to 'center' to center equations.\n",
        "                \"HTML-CSS\": {\n",
        "                    styles: {'.MathJax_Display': {\"margin\": 4}}\n",
        "                }\n",
        "        });\n",
        "</script>\n"
       ],
       "metadata": {},
       "output_type": "pyout",
       "prompt_number": 28,
       "text": [
        "<IPython.core.display.HTML at 0x3aca490>"
       ]
      }
     ],
     "prompt_number": 28
    }
   ],
   "metadata": {}
  }
 ]
}