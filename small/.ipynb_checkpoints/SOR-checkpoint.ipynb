{
 "metadata": {
  "name": "",
  "signature": "sha256:d213fab262c9cca18d5a4e7e3c7942ace178ce82765796187a692bcdf67de843"
 },
 "nbformat": 3,
 "nbformat_minor": 0,
 "worksheets": [
  {
   "cells": [
    {
     "cell_type": "code",
     "collapsed": false,
     "input": [
      "%pylab inline\n",
      "import matplotlib.animation as animation\n",
      "\n",
      "\"\"\"EXACT SOLUTION\n",
      "\n",
      "A * x = b\n",
      "\n",
      "A^-1 * A * x = A^-1 * b\n",
      "\n",
      "1 * x = A^-1 * b\n",
      "\"\"\"\n",
      "A = np.array([[ 1.  ,  0.  ,  0.  ,  0.  ,  0.  ,  0.  ,  0.  ,  0.  ,  0.  ,  0.  ],\n",
      "       [ 0.  ,  1.  ,  0.  ,  0.  ,  0.  ,  0.  ,  0.  ,  0.  ,  0.  ,  0.  ],\n",
      "       [ 0.  ,  0.  ,  1.  ,  0.01,  0.  ,  0.  ,  0.  ,  0.  ,  0.  ,  0.  ],\n",
      "       [ 0.  ,  0.  ,  0.  ,  1.  ,  0.  ,  0.  ,  0.  ,  0.  ,  0.  ,  0.  ],\n",
      "       [ 0.  ,  0.  ,  0.  ,  0.  ,  1.  ,  -0.3  ,  0.  ,  0.  ,  0.  ,  0.  ],\n",
      "       [ 0.  ,  0.  ,  0.  ,  0.  ,  0.5  ,  1.  ,  0.  ,  0.02,  0.  ,  0.  ],\n",
      "       [ 0.  ,  0.  ,  0.  ,  0.  ,  0.  ,  0.  ,  1.  ,  0.  ,  0.  ,  0.  ],\n",
      "       [ 0.  ,  0.1  ,  0.  ,  0.  ,  1.  ,  0.7 ,  0.  ,  1.  ,  0.  ,  0.  ],\n",
      "       [ 0.  ,  0.  ,  0.  ,  0.  ,  0.  ,  0.  ,  0.  ,  0.  ,  1.  ,  0.  ],\n",
      "       [ 0.  ,  0.  ,  0.  ,  0.  ,  0.  ,  0.  ,  0.5 ,  0.  ,  0.  ,  1.  ]])\n",
      "\n",
      "b = np.array([1,2,3,4,5,6,7,8,9,10])\n",
      "#print np.linalg.det(A)\n",
      "x = np.dot(np.linalg.inv(A), b)\n",
      "\n",
      "print \"x=\", x\n",
      "\n",
      "\n",
      "\n",
      "\"\"\"SOLUTION BY SOR METHOD\"\"\"\n",
      "def residual(A, x, b):\n",
      "    return norm(dot(A,x) - b)\n",
      "\n",
      "solution = []\n",
      "x= np.array([0.0,0.0,0.0,0.0,0.0,0.0,0.0,0.0,0.0,0.0])\n",
      "w = 1.0\n",
      "n = len(x)\n",
      "for iteration in xrange(150):\n",
      "    for i in xrange(n):\n",
      "        s = 0\n",
      "        for j in xrange(n):\n",
      "            if j!=i:\n",
      "                s = s + A[i][j]*x[j]\n",
      "        #x[i] = (1-w)*x[i] + w/A[i][i]*(b[i] - s)\n",
      "        x[i] = x[i] + w*( (b[i]-s)/A[i][i] -x[i])\n",
      "    scatter(iteration, residual(A,x,b))\n",
      "\n",
      "print \"SOR: x=\", x\n"
     ],
     "language": "python",
     "metadata": {},
     "outputs": [
      {
       "output_type": "stream",
       "stream": "stdout",
       "text": [
        "Populating the interactive namespace from numpy and matplotlib\n",
        "x= [ 1.          2.          2.96        4.          5.91433628  3.04778761\n",
        "  7.         -0.24778761  9.          6.5       ]\n",
        "SOR: x="
       ]
      },
      {
       "output_type": "stream",
       "stream": "stdout",
       "text": [
        " [ 1.          2.          2.96        4.          5.91433628  3.04778761\n",
        "  7.         -0.24778761  9.          6.5       ]\n"
       ]
      },
      {
       "metadata": {},
       "output_type": "display_data",
       "png": "[encoded data removed]",
       "text": [
        "<matplotlib.figure.Figure at 0x2d3e650>"
       ]
      }
     ],
     "prompt_number": 14
    },
    {
     "cell_type": "code",
     "collapsed": false,
     "input": [],
     "language": "python",
     "metadata": {},
     "outputs": []
    }
   ],
   "metadata": {}
  }
 ]
}